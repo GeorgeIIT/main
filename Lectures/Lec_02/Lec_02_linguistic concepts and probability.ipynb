{
 "cells": [
  {
   "cell_type": "markdown",
   "metadata": {},
   "source": [
    "# Adjacent fields of NLP\n",
    "\n",
    "<img src=\"./adjacent_fields.png\" width=\"800\">"
   ]
  },
  {
   "cell_type": "markdown",
   "metadata": {},
   "source": [
    "# Level of language structure\n",
    "- From linguistic perspective, there are different levels of structure, going from super-facial to conceptural"
   ]
  },
  {
   "cell_type": "markdown",
   "metadata": {},
   "source": [
    "## Morphology\n",
    "- Understanding the internal **structure of words**\n",
    "- The study of **morphemes** and the way they are sequenced in a word\n",
    "- Morpheme: smallest meaningful unit of language\n",
    "- Morphemes include: \n",
    "    - stems \n",
    "    - prefixes \n",
    "    - suffixes \n",
    "    - infixes\n",
    "- Examples of analysing words into morphemes:\n",
    "    - word: \n",
    "        - one morpheme\n",
    "        - words: word + s, two morphemes\n",
    "    - mistreating: \n",
    "        - mis + treat + ing, three morphemes\n",
    "    - bet: \n",
    "        - one morpheme\n",
    "        - betting: bet + ting, two morphemes\n",
    "        - better: one morpheme\n",
    "    - care: \n",
    "        - one morpheme\n",
    "        - scare: one morpheme\n",
    "- Applications:\n",
    "    - Morphological segmentation: dividing words into individual units called morphemes\n",
    "    - Stemming: cutting off prefix or suffix and reduce to the root form (e.g., studies -> studi)\n",
    "    - Lemmatization: reducing the various inflected forms of a word into the root form (e.g., studies -> study).\n",
    "    "
   ]
  },
  {
   "cell_type": "markdown",
   "metadata": {},
   "source": [
    "## Syntax\n",
    "- The **structure of sentence**, how the sentence is built up\n",
    "- The arragement of words and phrases in a sentence such that they make grammatical sense\n",
    "\n",
    "- Applications: \n",
    "    - Part-of-speech tagging\n",
    "    - Entity extraction\n",
    "    - Syntactic parsing (CFG): undertaking grammatical analysis for the provided sentence\n",
    "    - Syntactic parsing (dependencies)\n",
    "    - Named entity recognition (NER): \n",
    "        - determining the parts of a text that can be identified and categorized into preset groups.\n",
    "        - Examples of such groups include names of people and names of places.\n",
    "\n",
    "- Examples:\n",
    "    - Kim loves Marry; Mary loves Kim; \n",
    "        - exactly same words, different meaning; subject, object;\n",
    "    - Kim Marry loves; \n",
    "        - Not reasonable;\n",
    "        - Every sentence is a sequence of words, but not every sequence of words is a reasonable sentence.\n",
    "\n",
    "    - He is *dancing* with Rose. (verb)\n",
    "    - *Dancing* is a great exercise. (noun)\n",
    "    - Don't forget to pack your *dancing* shoes. (adj)\n",
    "\n",
    "<br>\n",
    "- List of common Part-of-Speech tags"
   ]
  },
  {
   "cell_type": "markdown",
   "metadata": {},
   "source": [
    "<img src=\"./pos_tag.png\" width=\"400\" align=\"left\">"
   ]
  },
  {
   "cell_type": "markdown",
   "metadata": {},
   "source": [
    "## Semantics\n",
    "- The study of words and sentence **meaning**\n",
    "- Understand the meaning and interpretation of words and how sentences are structured\n",
    "- At different levels:\n",
    "    - word / lexical\n",
    "    - sentence / sequence \n",
    "    - text / document\n",
    "- Applications:\n",
    "    - Word embedding / encoding\n",
    "    - Word sense disambiguition\n",
    "    - Semantic role labeling\n",
    "    - Natural language generation: \n",
    "        - using databases to derive semantic intentions and convert them into human language\n",
    "    \n",
    "- Semantic analysis is one of the difficult aspects of NLP that has not been fully resolved yet\n"
   ]
  },
  {
   "cell_type": "markdown",
   "metadata": {},
   "source": [
    "## Pragmatics\n",
    "- How language is used to achieve specific intentions\n",
    "- The intention of the speaker during conversation (e.g., chat)\n",
    "- Conversational implicatures:\n",
    "    - how I interpret what you say based on the context\n",
    "\n",
    "- Applications:\n",
    "    - Dialogue systems\n",
    "    - Speech act labeling\n",
    "    - Discourse structure parsing\n",
    "    "
   ]
  },
  {
   "cell_type": "markdown",
   "metadata": {},
   "source": [
    "# Why is NLP hard?\n",
    "- Hidden structure of language is **ambiguous** and complex **at all levels**\n",
    "\n",
    "- low-level rules:\n",
    "    - single -> plural: \n",
    "         - girl -> girls\n",
    "         - class -> classes \n",
    "         - candy - candies \n",
    "         \n",
    "    - abbreviation: \n",
    "        - TBA -> To Be Announced\n",
    "\n",
    "\n",
    "- high-level rules:\n",
    "     - jokes \n",
    "     - sarcasm\n",
    "     - Ironic: \n",
    "         - if I say Lovely day to you whilst we are both being soaked by heavy rain, you will use knowledge that people don’t usually like rain to infer that I am being ironic <br>"
   ]
  },
  {
   "cell_type": "markdown",
   "metadata": {},
   "source": [
    "Consider the proverb: **\"Time flies like an arrow\"**"
   ]
  },
  {
   "cell_type": "markdown",
   "metadata": {},
   "source": [
    "## Word sense ambiguity\n",
    "- Time:\n",
    "    - abstract time\n",
    "    - a specific point in time\n",
    "    - to measure time\n",
    "- flies:\n",
    "    - moves through the air\n",
    "    - little pesky insects\n",
    "- like:\n",
    "    - similar to\n",
    "    - have affect for\n",
    "- arrow:\n",
    "    - pointy stick shot from a bow\n",
    "    - to move straight towards a target\n",
    "    \n",
    "- Meet me at the bank.\n",
    "    - bank: the organization that provides finalcial services\n",
    "    - bank: the side of a river"
   ]
  },
  {
   "cell_type": "markdown",
   "metadata": {},
   "source": [
    "## Part-of-speech ambiguity\n",
    "\n",
    "<img src=\"./pos_amb.png\" width=\"400\" align=\"left\">"
   ]
  },
  {
   "cell_type": "markdown",
   "metadata": {},
   "source": [
    "## Syntactic ambiguity \n",
    "- structure of a sentence\n",
    "- obvious to you but not to computers\n",
    "\n",
    "<img src=\"./syn_amb.png\" width=\"800\">"
   ]
  },
  {
   "cell_type": "markdown",
   "metadata": {},
   "source": [
    "<img src=\"./syn_amb_4.png\" width=\"500\" align=\"left\">"
   ]
  },
  {
   "cell_type": "markdown",
   "metadata": {},
   "source": [
    "<img src=\"./syn_amb_5.png\" width=\"300\" align=\"left\">"
   ]
  },
  {
   "cell_type": "markdown",
   "metadata": {},
   "source": [
    "## A changing target\n",
    "- New words and phrases, changing at different rate\n",
    "    - googling, blogger, wi-fi\n",
    "- Sentence structure\n",
    "    - subtle rate"
   ]
  },
  {
   "cell_type": "markdown",
   "metadata": {},
   "source": [
    "## Much we can do\n",
    "- Lot of data\n",
    "- Increased computational ability\n",
    "- Complex algorithms\n",
    "- ..."
   ]
  },
  {
   "cell_type": "markdown",
   "metadata": {},
   "source": [
    "## Much we still can't do\n",
    "- Limited data contexts and low resource languages\n",
    "- Manual labeling based on human judgements\n",
    "- Integrate information across modalities\n",
    "    - text, image, sound, action sequence, video\n",
    "    - multimodel learning like a kid \n",
    "- Transfer learning across tasks and domains\n",
    "    - getting better but still not enough <br>\n",
    "- Open-ended problems\n",
    "- ..."
   ]
  },
  {
   "cell_type": "markdown",
   "metadata": {},
   "source": [
    "# Mathmatical review"
   ]
  },
  {
   "cell_type": "markdown",
   "metadata": {},
   "source": [
    "## Probability\n",
    "- $P(A)$: the fraction of possible worlds (given what I know) in which A is true \n",
    "\n",
    "- $0 \\leq P(A) \\leq 1$\n",
    "- $P(true) = 1$\n",
    "- $P(false) = 0$\n",
    "- $P(A or B) = P(A) + P(B) - P(A & B)$ "
   ]
  },
  {
   "cell_type": "markdown",
   "metadata": {},
   "source": [
    "<img src=\"./union.png\" width=\"300\">"
   ]
  },
  {
   "cell_type": "markdown",
   "metadata": {},
   "source": [
    "- Boolean variable\n",
    "    > $P(\\sim A) = P(not A) = 1 - P(A)$  <br>\n",
    "    \n",
    "\\begin{equation} P(A) = P(A \\& B) + P(A \\& \\sim B)  \\end{equation} <br>"
   ]
  },
  {
   "cell_type": "markdown",
   "metadata": {},
   "source": [
    "- Multivalued random variables\n",
    "    - Variables that can take more than two values in some set $\\{v_1, v_2, ..., v_k\\}$\n",
    "        - e.g., POS of a word : $\\{noun, verb, adjective, adverb\\}$ <br>\n",
    "    > $P(A=v_i \\& A=v_j) = 0$ if $i \\neq j$ <br>\n",
    "    > $P(A=v_1 or A=v_2 or \\quad ... \\quad or A=v_k) = 1$ <br>\n",
    "    "
   ]
  },
  {
   "cell_type": "markdown",
   "metadata": {},
   "source": [
    "- disjunction\n",
    "> $P(A=v_1 \\lor A=v_2 \\lor \\quad...\\quad \\lor A=v_i) = \\sum_{k=1}^{i} P(A=v_k)$    "
   ]
  },
  {
   "cell_type": "markdown",
   "metadata": {},
   "source": [
    "- conjunction, sum up the joint probability of each independet value A could take\n",
    "> $P(B) = P(B \\land [ A=v_1 \\lor \\quad...\\quad \\lor A=v_i]) = \\sum_{k=1}^{i} P(B \\land A=v_k)$"
   ]
  },
  {
   "cell_type": "markdown",
   "metadata": {},
   "source": [
    "### Conditional probability\n",
    "- $P(A|B)$: probability of A given B, the fraction of possible worlds with B true that also have A true <br>\n",
    "> P(Headache) = 0.1 <br>\n",
    "> P(Flu) = 0.02 <br>\n",
    "> P(Headache|Flu) = 0.5 <br>\n",
    "> Headache is rare, flu is much rare, but if you got flu, you have 50% chance of having a headache <br>\n",
    "\n",
    "<img src=\"./union.png\" width=\"300\" align=\"left\">"
   ]
  },
  {
   "cell_type": "markdown",
   "metadata": {},
   "source": [
    "- definition:\n",
    "> $P(A|B) = \\frac{P(A \\land B)}{P(B)}$ <br>\n",
    "- Chain rule:\n",
    "> $P(A \\land B) = P(A|B)P(B)$ <br>\n",
    "> $P(B \\land A) = P(B|A)P(A)$ <br>\n",
    "> $P(A \\land B) = P(B \\land A) = P(A|B)P(B) =  P(B|A)P(A)$ <br>\n",
    "> $P(A_1 \\land A_2 \\land ... \\land A_n) = P(A_1)P(A_2|A_1)P(A_3|A_1A_2)...P(A_n|A_1A_2...A_{n-1})$ <br>\n",
    "\n",
    "- Language model (language generation):\n",
    "> $P(I \\quad have \\quad a \\quad dog) = P(I)P(have|I)P(a | I \\quad have)P(dog | I \\quad have \\quad a)$"
   ]
  },
  {
   "cell_type": "markdown",
   "metadata": {},
   "source": [
    "### Atomic events\n",
    "- A complete specification of the state of the world about which the agent is uncertain\n",
    "- E.g, If the world consists of two boolean variables: A and B, then there are four distinct atomic events:\n",
    "> A = true & B = true <br>\n",
    "> A = true & B = false <br>\n",
    "> A = false & B = true <br>\n",
    "> A = false & B = false <br>\n",
    "- Atomic events are mutually **exclusive** and exhaustive"
   ]
  },
  {
   "cell_type": "markdown",
   "metadata": {},
   "source": [
    "### Prior probability\n",
    "- The belief prior to arrival of any (new) evidence\n",
    "- Unconditional probability\n",
    "> prior probability: $P(A=true)=0.1$ <br>\n",
    "> conditional probability: $P(A=true| B=true)=0.1$ <br>"
   ]
  },
  {
   "cell_type": "markdown",
   "metadata": {},
   "source": [
    "- Probability distribution\n",
    "> Values for all possible assignments <br>\n",
    "> Boolean: $P(A) = <true: 0.1; false: 0.9>$ <br>\n",
    "> Multivalued: $P(Weather) = <sunny: 0.72; rainy: 0.1; cloudy:0.08 ; snow:0.1>$"
   ]
  },
  {
   "cell_type": "markdown",
   "metadata": {},
   "source": [
    "- Joint probability distribution\n",
    "> the probability of every atomic event on the set of random variables <br>\n",
    "> $P(Weather, Cavity)$ is a matrix of $4 \\times 2$ <br>\n",
    "<img src=\"./4_2_matrix.png\" width=\"500\" align=\"left\">\n"
   ]
  },
  {
   "cell_type": "markdown",
   "metadata": {},
   "source": [
    "## Inference\n",
    "- Given some information about the probability distribution, determine the probability of some proposition\n",
    "> $P(\\sim Study \\quad \\& \\quad (GoodGrade \\quad or \\quad GoodJob)) $\n",
    "### Inference by enumeration\n"
   ]
  },
  {
   "cell_type": "markdown",
   "metadata": {},
   "source": [
    "- Joint probability distribution\n",
    "    - $P(toothache)$\n",
    "    - $P(toothache \\quad or \\quad cavity)$\n",
    "    - $P(\\sim cavity | toothache)$\n",
    "\n",
    "> <img src=\"./prob_table.png\" width=\"300\" align=\"left\">"
   ]
  },
  {
   "cell_type": "markdown",
   "metadata": {},
   "source": [
    "- Sum the atomic events where the proposition is true\n",
    "> $P(toothache) = 0.108 + 0.012 + 0.016 + 0.064 = 0.2$ <br>\n",
    "> <br>\n",
    "> $P(toothache \\quad or \\quad cavity) = 0.108 + 0.012 + 0.016 + 0.064 + 0.072 + 0.008 = 0.28$ <br>\n",
    "> <br>\n",
    "> $P(\\sim cavity | toothache)$ = $\\frac{P(\\sim cavity \\& toothache)}{P(toothache)}$ = $\\frac{0.016 + 0.064}{0.108+0.012+0.016+0.064}$ = 0.4 <br>\n",
    "> <br>\n",
    "\n",
    "> <img src=\"./P_toothache_catch.png\" width=\"600\" align=\"left\">"
   ]
  },
  {
   "cell_type": "markdown",
   "metadata": {},
   "source": [
    "- Chain rule:\n",
    "> $P(Toothache, Catch, Cavity) $ <br>\n",
    "> $ = P(Toothache|Catch, Cavity)P(Catch, Cavity) $ <br> \n",
    "> $ = P(Toothache|Catch, Cavity)P(Catch| Cavity)P(Cavity) $ <br>"
   ]
  },
  {
   "cell_type": "markdown",
   "metadata": {},
   "source": [
    "## Independence"
   ]
  },
  {
   "cell_type": "markdown",
   "metadata": {},
   "source": [
    "- Two boolean random variables A and B are independent if and only if:\n",
    "> $P(A|B) = P(A)$ , the probability of event A happens is not affect by knowing B <br>\n",
    "> $P(B|A) = P(B)$, the probability of event B happens is not affect by knowing A <br>"
   ]
  },
  {
   "cell_type": "markdown",
   "metadata": {},
   "source": [
    "- Independent facts about boolean variables\n",
    "> $P(A \\& B) = P(A|B)P(B)=P(A)P(B)$ <br>\n",
    "> <br>\n",
    "> $P(\\sim A| B) = 1-P(A|B) = 1-P(A) = P(\\sim A)$ <br>\n",
    "> <br>\n",
    "> $P(A| \\sim B) = P(A \\& \\sim B) / P(\\sim B) = P(\\sim B | A)P(A) / P(\\sim B) = P(\\sim B)P(A)/P(\\sim B) = P(A)$ <br>"
   ]
  },
  {
   "cell_type": "markdown",
   "metadata": {},
   "source": [
    "- Multivalued independence\n",
    "- For multivalued random variables A and B, A is independent of B if and only if:\n",
    "> $\\forall u,v: P(A=u | B=v) = P(A=u)$ <br>\n",
    "> <br>\n",
    "> $\\forall u,v: P(B=v | A=u) = P(B=v)$ <br>\n",
    "> <br>\n",
    "> $\\forall u,v: P(A=u \\land B=v) = P(A=u)P(B=v)$ <br>"
   ]
  },
  {
   "cell_type": "markdown",
   "metadata": {},
   "source": [
    "- Make **independence assumptions** on random variables (based on our domain knowledge):\n",
    "> <img src=\"./independence.png\" width=\"500\" align=\"left\"> <br>\n",
    "> <br><br><br><br><br><br>\n",
    "> P(Toothache, Catch, Cavity, Weather) = P(Toothach, Catch, Cavity)P(Weather) <br>\n",
    "\n",
    "- $2*2*2*4$ (=32) entries reduced to $2*2*2+4$ (=12)"
   ]
  },
  {
   "cell_type": "markdown",
   "metadata": {},
   "source": [
    "## Conditional independence\n",
    "- Absolute independence is powerful but rare\n",
    "- Conditional independence: weaker form of independence\n",
    "> For **boolean** random variables, A is conditionally independent of B given C iff: <br>\n",
    "> <br>\n",
    "> $P(A|B,C) = P(A|C)$ <br>\n",
    "> <br>\n",
    "> $P(A| \\sim B,C) = P(A|C)$ <br>\n",
    "> <br>\n",
    ">\n",
    "> For **multivalued** random variables, A is conditionally independent of B given C iff: <br>\n",
    "> <br>\n",
    "> $\\forall u,v,w: P(A=u| B=v \\land C=w) = P(A=u|C=w)$"
   ]
  },
  {
   "cell_type": "markdown",
   "metadata": {},
   "source": [
    "## Baye's Theorem\n",
    "- Bayes' rule:\n",
    "> $P(A|B) = \\frac{P(B|A)P(A)}{P(B)}$\n",
    "- Assessing diagnostic probability from causal probability:\n",
    "> $P(Cause|Effect) = \\frac{P(Effect|Cause)P(Cause)}{P(Effect)}$ <br>\n",
    "> <br>\n",
    "> $P(Cold|Flu) = \\frac{P(Flu|Cold)P(Cold)}{P(Flu)}$ <br>\n",
    "\n",
    "> Bayes, Thomas (1783) An essay towards solving a problem in the doctrine of chances Philosophical transactions of the Royal Society of London, 53:370-418"
   ]
  },
  {
   "cell_type": "markdown",
   "metadata": {},
   "source": [
    "### Bayes' rule and gambling\n",
    "- Suppose there are two sealed envelopes: \n",
    "> one with 2 red beads, 2 black beads, and $1; <br> \n",
    "> the other with 1 red bead, 2 black beads, and no money. <br>\n",
    "\n",
    "- I draw an envelope at random, and offer to sell it to you. How much should you be willing to pay? <br>\n",
    "> <img src=\"./bayes.png\" width=\"300\" align=\"left\">"
   ]
  },
  {
   "cell_type": "markdown",
   "metadata": {},
   "source": [
    "- Now, you are allowed to see one (randomly drawn) bead from the selected envelope:\n",
    "> If it is black, how much should you be willing to pay?\n",
    "> <br>\n",
    "> If it is red, how much should you be willing to pay? <br>\n",
    "> <br>\n",
    "> $P(Win|Black) = \\frac{P(Win,Black)}{P(Black)}= \\frac{P(Black|Win)P(Win)}{P(Black)} = \\frac{P(Black|Win)P(Win)}{P(Black|Lose)*P(Lose)} = \\frac{(1/2*1/2)}{1/2*1/2 + 2/3*1/2} = 3/7$"
   ]
  },
  {
   "cell_type": "code",
   "execution_count": null,
   "metadata": {},
   "outputs": [],
   "source": []
  }
 ],
 "metadata": {
  "kernelspec": {
   "display_name": "Python 3",
   "language": "python",
   "name": "python3"
  },
  "language_info": {
   "codemirror_mode": {
    "name": "ipython",
    "version": 3
   },
   "file_extension": ".py",
   "mimetype": "text/x-python",
   "name": "python",
   "nbconvert_exporter": "python",
   "pygments_lexer": "ipython3",
   "version": "3.7.0"
  },
  "toc": {
   "base_numbering": 1,
   "nav_menu": {},
   "number_sections": true,
   "sideBar": true,
   "skip_h1_title": false,
   "title_cell": "Table of Contents",
   "title_sidebar": "Contents",
   "toc_cell": false,
   "toc_position": {},
   "toc_section_display": true,
   "toc_window_display": false
  }
 },
 "nbformat": 4,
 "nbformat_minor": 2
}
