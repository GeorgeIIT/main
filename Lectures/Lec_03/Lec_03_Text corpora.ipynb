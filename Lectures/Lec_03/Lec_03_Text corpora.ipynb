{
 "cells": [
  {
   "cell_type": "markdown",
   "metadata": {},
   "source": [
    "# Linguistic research questions\n",
    "- What kinds of things do people write/say?\n",
    "- What words and structures do they use?\n",
    "- What rules and statistical tendencies do we find?"
   ]
  },
  {
   "cell_type": "markdown",
   "metadata": {},
   "source": [
    "<img src=\"./outline.png\" width=\"400\" align=\"left\">"
   ]
  },
  {
   "cell_type": "markdown",
   "metadata": {},
   "source": [
    "# NLTK corpora\n",
    "- Corpus: body of natually occuring text\n",
    "    - Selected or organized in some particular manner\n",
    "    - One corpus, two corpora\n",
    "- Corpus structures\n",
    "    - isolated: a collection of texts\n",
    "    - categorized: genre, source, author, language, etc\n",
    "    - overlapping: relevant to several topical categories\n",
    "    - temporal: timeline, news collections\n",
    "- **Q**: what kinds of corpora have you used?"
   ]
  },
  {
   "cell_type": "markdown",
   "metadata": {},
   "source": [
    "<img src=\"./corpora_structure.png\" width=\"600\" align=\"center\">"
   ]
  },
  {
   "cell_type": "markdown",
   "metadata": {},
   "source": [
    "- Full list of NLTK corpora\n",
    "    - http://www.nltk.org/nltk_data/ (107 by now)\n",
    "    - documentation: http://www.nltk.org/howto/corpus.html\n",
    "    - Text corpora with linguistic annotations:\n",
    "        - POS tags (e.g., Brown Corpus)\n",
    "        - named entities (e.g., CoNLL 2002 Named Entity)\n",
    "        - syntactic structures (e.g., CESS Treebanks)\n",
    "        - semantic roles (e.g., SEMCOR)\n",
    "        - sentiment polarity (e.g., Movie Reviews)\n",
    "   "
   ]
  },
  {
   "cell_type": "markdown",
   "metadata": {},
   "source": [
    "<img src=\"./corpora_list.png\" width=\"800\" align=\"center\">"
   ]
  },
  {
   "cell_type": "code",
   "execution_count": 14,
   "metadata": {},
   "outputs": [
    {
     "name": "stdout",
     "output_type": "stream",
     "text": [
      "3.3\n"
     ]
    }
   ],
   "source": [
    "import nltk\n",
    "# check nltk version:\n",
    "print(nltk.__version__)\n",
    "\n",
    "import pandas as pd\n",
    "\n",
    "\n",
    "# setting environment variable to your path\n",
    "nltk.data.path.append(\"/data/3/zwang/nltk_data\") \n",
    "\n",
    "# settings to show the plot in file\n",
    "from matplotlib import pyplot as plt\n",
    "plt.style.use('default')"
   ]
  },
  {
   "cell_type": "markdown",
   "metadata": {},
   "source": [
    "## Brown Corpus\n",
    "The first million-word electronic corpus of English, created in 1961 at **Brown University**\n",
    "\n",
    "Balanced corpus of American English in 1960s\n",
    "    - representative across different domains\n",
    "    - the sources have been categorized by genre: http://icame.uib.no/brown/bcm-los.html\n",
    "    \n",
    "**Tagged** for part-of-speech in 1970s\n",
    "\n",
    "Still significant, but with limitations"
   ]
  },
  {
   "cell_type": "markdown",
   "metadata": {},
   "source": [
    "<img src=\"./brown_genre.png\" width=\"800\" align=\"center\">"
   ]
  },
  {
   "cell_type": "code",
   "execution_count": 3,
   "metadata": {},
   "outputs": [
    {
     "data": {
      "text/plain": [
       "(500, ['ca01', 'ca02', 'ca03', 'ca04', 'ca05'])"
      ]
     },
     "execution_count": 3,
     "metadata": {},
     "output_type": "execute_result"
    }
   ],
   "source": [
    "from nltk.corpus import brown\n",
    "\n",
    "# 500 text files\n",
    "len(brown.fileids()), brown.fileids()[:5]"
   ]
  },
  {
   "cell_type": "code",
   "execution_count": 4,
   "metadata": {},
   "outputs": [
    {
     "data": {
      "text/plain": [
       "['adventure',\n",
       " 'belles_lettres',\n",
       " 'editorial',\n",
       " 'fiction',\n",
       " 'government',\n",
       " 'hobbies',\n",
       " 'humor',\n",
       " 'learned',\n",
       " 'lore',\n",
       " 'mystery',\n",
       " 'news',\n",
       " 'religion',\n",
       " 'reviews',\n",
       " 'romance',\n",
       " 'science_fiction']"
      ]
     },
     "execution_count": 4,
     "metadata": {},
     "output_type": "execute_result"
    }
   ],
   "source": [
    "brown.categories() # 15 genres"
   ]
  },
  {
   "cell_type": "markdown",
   "metadata": {},
   "source": [
    "### Basic statistics about a corpus\n",
    "- http://www.nltk.org/howto/corpus.html\n",
    "\n",
    "- basic corpus functionality defined in NLTK\n",
    "<img src=\"./corpus_functions.png\" width=\"600\" align=\"left\">"
   ]
  },
  {
   "cell_type": "markdown",
   "metadata": {},
   "source": [
    "- Conditional Frequency Distributions\n",
    "\n",
    "<img src=\"./cfd_functions.png\" width=\"800\" align=\"center\">"
   ]
  },
  {
   "cell_type": "markdown",
   "metadata": {},
   "source": [
    "- basic statistics about the brown corpus"
   ]
  },
  {
   "cell_type": "code",
   "execution_count": 5,
   "metadata": {},
   "outputs": [
    {
     "name": "stdout",
     "output_type": "stream",
     "text": [
      "Total number of .... in brown corpus:\n",
      "characters: 9964284\n",
      "words: 1161192\n",
      "sentences: 57340\n",
      "paragraphs: 15667\n"
     ]
    }
   ],
   "source": [
    "print(\"Total number of .... in brown corpus:\")\n",
    "print(\"characters:\", len(brown.raw())) # including spaces and punctuations.\n",
    "print(\"words:\", len(brown.words()))\n",
    "print(\"sentences:\", len(brown.sents()))\n",
    "print(\"paragraphs:\", len(brown.paras()))"
   ]
  },
  {
   "cell_type": "markdown",
   "metadata": {},
   "source": [
    "- Check the characters / letters"
   ]
  },
  {
   "cell_type": "code",
   "execution_count": 6,
   "metadata": {},
   "outputs": [
    {
     "data": {
      "text/plain": [
       "'\\n\\n\\tThe/at Fulton/np-tl County/nn-tl Grand/jj-tl Jury/nn-tl said/vbd Friday/nr an/at investigation/nn'"
      ]
     },
     "execution_count": 6,
     "metadata": {},
     "output_type": "execute_result"
    }
   ],
   "source": [
    "brown.raw()[:100]"
   ]
  },
  {
   "cell_type": "markdown",
   "metadata": {},
   "source": [
    "- Check the words for a given category / a given file"
   ]
  },
  {
   "cell_type": "code",
   "execution_count": 7,
   "metadata": {},
   "outputs": [
    {
     "data": {
      "text/plain": [
       "['The', 'Fulton', 'County', 'Grand', 'Jury', 'said', ...]"
      ]
     },
     "execution_count": 7,
     "metadata": {},
     "output_type": "execute_result"
    }
   ],
   "source": [
    "# words for a given category\n",
    "brown.words(categories='news')"
   ]
  },
  {
   "cell_type": "code",
   "execution_count": 8,
   "metadata": {},
   "outputs": [
    {
     "data": {
      "text/plain": [
       "['Does', 'our', 'society', 'have', 'a', 'runaway', ',', ...]"
      ]
     },
     "execution_count": 8,
     "metadata": {},
     "output_type": "execute_result"
    }
   ],
   "source": [
    "# words for a given file\n",
    "brown.words(fileids=['cg22'])"
   ]
  },
  {
   "cell_type": "markdown",
   "metadata": {},
   "source": [
    "- Check sentences"
   ]
  },
  {
   "cell_type": "code",
   "execution_count": 9,
   "metadata": {},
   "outputs": [
    {
     "data": {
      "text/plain": [
       "[['The', 'Fulton', 'County', 'Grand', 'Jury', 'said', 'Friday', 'an', 'investigation', 'of', \"Atlanta's\", 'recent', 'primary', 'election', 'produced', '``', 'no', 'evidence', \"''\", 'that', 'any', 'irregularities', 'took', 'place', '.'], ['The', 'jury', 'further', 'said', 'in', 'term-end', 'presentments', 'that', 'the', 'City', 'Executive', 'Committee', ',', 'which', 'had', 'over-all', 'charge', 'of', 'the', 'election', ',', '``', 'deserves', 'the', 'praise', 'and', 'thanks', 'of', 'the', 'City', 'of', 'Atlanta', \"''\", 'for', 'the', 'manner', 'in', 'which', 'the', 'election', 'was', 'conducted', '.'], ...]"
      ]
     },
     "execution_count": 9,
     "metadata": {},
     "output_type": "execute_result"
    }
   ],
   "source": [
    "# sentences from three categories are concatenated \n",
    "brown.sents(categories=['news', 'editorial', 'reviews']) "
   ]
  },
  {
   "cell_type": "code",
   "execution_count": 10,
   "metadata": {},
   "outputs": [
    {
     "name": "stdout",
     "output_type": "stream",
     "text": [
      "[['The', 'Fulton', 'County', 'Grand', 'Jury', 'said', 'Friday', 'an', 'investigation', 'of', \"Atlanta's\", 'recent', 'primary', 'election', 'produced', '``', 'no', 'evidence', \"''\", 'that', 'any', 'irregularities', 'took', 'place', '.'], ['The', 'jury', 'further', 'said', 'in', 'term-end', 'presentments', 'that', 'the', 'City', 'Executive', 'Committee', ',', 'which', 'had', 'over-all', 'charge', 'of', 'the', 'election', ',', '``', 'deserves', 'the', 'praise', 'and', 'thanks', 'of', 'the', 'City', 'of', 'Atlanta', \"''\", 'for', 'the', 'manner', 'in', 'which', 'the', 'election', 'was', 'conducted', '.'], ['The', 'September-October', 'term', 'jury', 'had', 'been', 'charged', 'by', 'Fulton', 'Superior', 'Court', 'Judge', 'Durwood', 'Pye', 'to', 'investigate', 'reports', 'of', 'possible', '``', 'irregularities', \"''\", 'in', 'the', 'hard-fought', 'primary', 'which', 'was', 'won', 'by', 'Mayor-nominate', 'Ivan', 'Allen', 'Jr.', '.']]\n"
     ]
    }
   ],
   "source": [
    "print(brown.sents(categories='news')[:3])"
   ]
  },
  {
   "cell_type": "code",
   "execution_count": 11,
   "metadata": {},
   "outputs": [
    {
     "name": "stdout",
     "output_type": "stream",
     "text": [
      "The Fulton County Grand Jury said Friday an investigation of Atlanta's recent primary election produced `` no evidence '' that any irregularities took place . \n",
      "\n",
      "The jury further said in term-end presentments that the City Executive Committee , which had over-all charge of the election , `` deserves the praise and thanks of the City of Atlanta '' for the manner in which the election was conducted . \n",
      "\n",
      "The September-October term jury had been charged by Fulton Superior Court Judge Durwood Pye to investigate reports of possible `` irregularities '' in the hard-fought primary which was won by Mayor-nominate Ivan Allen Jr. . \n",
      "\n"
     ]
    }
   ],
   "source": [
    "for i in range(3):\n",
    "    print(' '.join(brown.sents(categories='news')[i]),'\\n')"
   ]
  },
  {
   "cell_type": "code",
   "execution_count": 15,
   "metadata": {},
   "outputs": [
    {
     "data": {
      "text/html": [
       "<div>\n",
       "<style scoped>\n",
       "    .dataframe tbody tr th:only-of-type {\n",
       "        vertical-align: middle;\n",
       "    }\n",
       "\n",
       "    .dataframe tbody tr th {\n",
       "        vertical-align: top;\n",
       "    }\n",
       "\n",
       "    .dataframe thead th {\n",
       "        text-align: right;\n",
       "    }\n",
       "</style>\n",
       "<table border=\"1\" class=\"dataframe\">\n",
       "  <thead>\n",
       "    <tr style=\"text-align: right;\">\n",
       "      <th></th>\n",
       "      <th>genre</th>\n",
       "      <th>characters</th>\n",
       "      <th>words</th>\n",
       "      <th>sentences</th>\n",
       "      <th>paragraphs</th>\n",
       "    </tr>\n",
       "  </thead>\n",
       "  <tbody>\n",
       "    <tr>\n",
       "      <th>0</th>\n",
       "      <td>adventure</td>\n",
       "      <td>564780</td>\n",
       "      <td>69342</td>\n",
       "      <td>4637</td>\n",
       "      <td>1387</td>\n",
       "    </tr>\n",
       "    <tr>\n",
       "      <th>1</th>\n",
       "      <td>belles_lettres</td>\n",
       "      <td>1489134</td>\n",
       "      <td>173096</td>\n",
       "      <td>7209</td>\n",
       "      <td>1405</td>\n",
       "    </tr>\n",
       "    <tr>\n",
       "      <th>2</th>\n",
       "      <td>editorial</td>\n",
       "      <td>538695</td>\n",
       "      <td>61604</td>\n",
       "      <td>2997</td>\n",
       "      <td>1003</td>\n",
       "    </tr>\n",
       "    <tr>\n",
       "      <th>3</th>\n",
       "      <td>fiction</td>\n",
       "      <td>560143</td>\n",
       "      <td>68488</td>\n",
       "      <td>4249</td>\n",
       "      <td>1043</td>\n",
       "    </tr>\n",
       "    <tr>\n",
       "      <th>4</th>\n",
       "      <td>government</td>\n",
       "      <td>636377</td>\n",
       "      <td>70117</td>\n",
       "      <td>3032</td>\n",
       "      <td>851</td>\n",
       "    </tr>\n",
       "    <tr>\n",
       "      <th>5</th>\n",
       "      <td>hobbies</td>\n",
       "      <td>712443</td>\n",
       "      <td>82345</td>\n",
       "      <td>4193</td>\n",
       "      <td>1119</td>\n",
       "    </tr>\n",
       "    <tr>\n",
       "      <th>6</th>\n",
       "      <td>humor</td>\n",
       "      <td>180542</td>\n",
       "      <td>21695</td>\n",
       "      <td>1053</td>\n",
       "      <td>254</td>\n",
       "    </tr>\n",
       "    <tr>\n",
       "      <th>7</th>\n",
       "      <td>learned</td>\n",
       "      <td>1605838</td>\n",
       "      <td>181888</td>\n",
       "      <td>7734</td>\n",
       "      <td>1418</td>\n",
       "    </tr>\n",
       "    <tr>\n",
       "      <th>8</th>\n",
       "      <td>lore</td>\n",
       "      <td>948858</td>\n",
       "      <td>110299</td>\n",
       "      <td>4881</td>\n",
       "      <td>1203</td>\n",
       "    </tr>\n",
       "    <tr>\n",
       "      <th>9</th>\n",
       "      <td>mystery</td>\n",
       "      <td>464077</td>\n",
       "      <td>57169</td>\n",
       "      <td>3886</td>\n",
       "      <td>1164</td>\n",
       "    </tr>\n",
       "    <tr>\n",
       "      <th>10</th>\n",
       "      <td>news</td>\n",
       "      <td>883606</td>\n",
       "      <td>100554</td>\n",
       "      <td>4623</td>\n",
       "      <td>2234</td>\n",
       "    </tr>\n",
       "    <tr>\n",
       "      <th>11</th>\n",
       "      <td>religion</td>\n",
       "      <td>337384</td>\n",
       "      <td>39399</td>\n",
       "      <td>1716</td>\n",
       "      <td>369</td>\n",
       "    </tr>\n",
       "    <tr>\n",
       "      <th>12</th>\n",
       "      <td>reviews</td>\n",
       "      <td>353785</td>\n",
       "      <td>40704</td>\n",
       "      <td>1751</td>\n",
       "      <td>629</td>\n",
       "    </tr>\n",
       "    <tr>\n",
       "      <th>13</th>\n",
       "      <td>romance</td>\n",
       "      <td>568528</td>\n",
       "      <td>70022</td>\n",
       "      <td>4431</td>\n",
       "      <td>1253</td>\n",
       "    </tr>\n",
       "    <tr>\n",
       "      <th>14</th>\n",
       "      <td>science_fiction</td>\n",
       "      <td>120094</td>\n",
       "      <td>14470</td>\n",
       "      <td>948</td>\n",
       "      <td>335</td>\n",
       "    </tr>\n",
       "  </tbody>\n",
       "</table>\n",
       "</div>"
      ],
      "text/plain": [
       "              genre  characters   words  sentences  paragraphs\n",
       "0         adventure      564780   69342       4637        1387\n",
       "1    belles_lettres     1489134  173096       7209        1405\n",
       "2         editorial      538695   61604       2997        1003\n",
       "3           fiction      560143   68488       4249        1043\n",
       "4        government      636377   70117       3032         851\n",
       "5           hobbies      712443   82345       4193        1119\n",
       "6             humor      180542   21695       1053         254\n",
       "7           learned     1605838  181888       7734        1418\n",
       "8              lore      948858  110299       4881        1203\n",
       "9           mystery      464077   57169       3886        1164\n",
       "10             news      883606  100554       4623        2234\n",
       "11         religion      337384   39399       1716         369\n",
       "12          reviews      353785   40704       1751         629\n",
       "13          romance      568528   70022       4431        1253\n",
       "14  science_fiction      120094   14470        948         335"
      ]
     },
     "metadata": {},
     "output_type": "display_data"
    }
   ],
   "source": [
    "# summary of the basic information for each genre\n",
    "genre_info = []\n",
    "for genre in brown.categories():\n",
    "    genre_info.append({'genre': genre,\n",
    "                       'characters': len(brown.raw(categories = genre)),\n",
    "                       'words': len(brown.words(categories = genre)),\n",
    "                       'sentences': len(brown.sents(categories = genre)),\n",
    "                       'paragraphs': len(brown.paras(categories = genre))\n",
    "                      })\n",
    "\n",
    "display(pd.DataFrame(genre_info)[['genre','characters','words','sentences','paragraphs']])\n",
    "# what did you learned from this table?"
   ]
  },
  {
   "cell_type": "markdown",
   "metadata": {},
   "source": [
    "- Build vocabulary for a corpus\n",
    "    - ignore upper and lower case"
   ]
  },
  {
   "cell_type": "code",
   "execution_count": 16,
   "metadata": {},
   "outputs": [
    {
     "data": {
      "text/plain": [
       "(13112, 7883)"
      ]
     },
     "execution_count": 16,
     "metadata": {},
     "output_type": "execute_result"
    }
   ],
   "source": [
    "news_vocab = sorted(set([word.lower() for word in brown.words(categories='news')]))  # \n",
    "romance_vocab = sorted(set([word.lower() for word in brown.words(categories='romance')])) \n",
    "\n",
    "len(news_vocab), len(romance_vocab)"
   ]
  },
  {
   "cell_type": "code",
   "execution_count": 17,
   "metadata": {},
   "outputs": [
    {
     "data": {
      "text/plain": [
       "['aeronautical',\n",
       " 'aeronautics',\n",
       " 'af',\n",
       " 'affair',\n",
       " 'affaire',\n",
       " 'affairs',\n",
       " 'affect',\n",
       " 'affected',\n",
       " 'affects',\n",
       " 'affiliated']"
      ]
     },
     "execution_count": 17,
     "metadata": {},
     "output_type": "execute_result"
    }
   ],
   "source": [
    "news_vocab[1000:1010] # are, Are, ARE\n",
    "# what is the problem of not converting word to lowercase?"
   ]
  },
  {
   "cell_type": "markdown",
   "metadata": {},
   "source": [
    "### Lexical diversity\n",
    "    - a measurement of how many different lexical words are in a text\n",
    "    - an important indicator of how complex and difficult to read a text\n",
    "    - definition: \n",
    "        - number of word types / total number of words\n",
    "        - number of words in the vocabulary / number of words in the text\n",
    "    \n",
    "    - e.g., two documents and each with 100 words:\n",
    "        - A: vocabulary size: 20; different word types, distinct words; lexical diversity = 0.2\n",
    "        - B: vocabulary size: 50; lexical_diversity = 0.5\n",
    "        - B is more complex than A\n",
    "        \n",
    "    - A token is the technical name for a sequence of characters that we want to treat as a group\n",
    "        - such as hairy, his, or :) \n",
    "        - \"to be or not to be\"\n",
    "            - two occurrences of \"to\"\n",
    "            - two occurrences of \"be\"\n",
    "            - one occurrence of \"or\"\n",
    "            - one occurrence of \"not\"\n",
    "            - 6 tokens\n",
    "            - 4 distinct tokens / word types / vocabulary\n",
    "       "
   ]
  },
  {
   "cell_type": "code",
   "execution_count": 18,
   "metadata": {},
   "outputs": [
    {
     "data": {
      "text/html": [
       "<div>\n",
       "<style scoped>\n",
       "    .dataframe tbody tr th:only-of-type {\n",
       "        vertical-align: middle;\n",
       "    }\n",
       "\n",
       "    .dataframe tbody tr th {\n",
       "        vertical-align: top;\n",
       "    }\n",
       "\n",
       "    .dataframe thead th {\n",
       "        text-align: right;\n",
       "    }\n",
       "</style>\n",
       "<table border=\"1\" class=\"dataframe\">\n",
       "  <thead>\n",
       "    <tr style=\"text-align: right;\">\n",
       "      <th></th>\n",
       "      <th>genre</th>\n",
       "      <th>tokens</th>\n",
       "      <th>vocab</th>\n",
       "      <th>lexical diversity</th>\n",
       "      <th>average token length</th>\n",
       "      <th>average sentence length</th>\n",
       "      <th>average word frequency</th>\n",
       "    </tr>\n",
       "  </thead>\n",
       "  <tbody>\n",
       "    <tr>\n",
       "      <th>6</th>\n",
       "      <td>humor</td>\n",
       "      <td>21695</td>\n",
       "      <td>4755</td>\n",
       "      <td>0.219</td>\n",
       "      <td>8.322</td>\n",
       "      <td>20.603</td>\n",
       "      <td>4.563</td>\n",
       "    </tr>\n",
       "    <tr>\n",
       "      <th>14</th>\n",
       "      <td>science_fiction</td>\n",
       "      <td>14470</td>\n",
       "      <td>3032</td>\n",
       "      <td>0.210</td>\n",
       "      <td>8.300</td>\n",
       "      <td>15.264</td>\n",
       "      <td>4.772</td>\n",
       "    </tr>\n",
       "    <tr>\n",
       "      <th>12</th>\n",
       "      <td>reviews</td>\n",
       "      <td>40704</td>\n",
       "      <td>8069</td>\n",
       "      <td>0.198</td>\n",
       "      <td>8.692</td>\n",
       "      <td>23.246</td>\n",
       "      <td>5.044</td>\n",
       "    </tr>\n",
       "    <tr>\n",
       "      <th>11</th>\n",
       "      <td>religion</td>\n",
       "      <td>39399</td>\n",
       "      <td>5931</td>\n",
       "      <td>0.151</td>\n",
       "      <td>8.563</td>\n",
       "      <td>22.960</td>\n",
       "      <td>6.643</td>\n",
       "    </tr>\n",
       "    <tr>\n",
       "      <th>2</th>\n",
       "      <td>editorial</td>\n",
       "      <td>61604</td>\n",
       "      <td>9109</td>\n",
       "      <td>0.148</td>\n",
       "      <td>8.744</td>\n",
       "      <td>20.555</td>\n",
       "      <td>6.763</td>\n",
       "    </tr>\n",
       "    <tr>\n",
       "      <th>5</th>\n",
       "      <td>hobbies</td>\n",
       "      <td>82345</td>\n",
       "      <td>10824</td>\n",
       "      <td>0.131</td>\n",
       "      <td>8.652</td>\n",
       "      <td>19.639</td>\n",
       "      <td>7.608</td>\n",
       "    </tr>\n",
       "    <tr>\n",
       "      <th>10</th>\n",
       "      <td>news</td>\n",
       "      <td>100554</td>\n",
       "      <td>13112</td>\n",
       "      <td>0.130</td>\n",
       "      <td>8.787</td>\n",
       "      <td>21.751</td>\n",
       "      <td>7.669</td>\n",
       "    </tr>\n",
       "    <tr>\n",
       "      <th>3</th>\n",
       "      <td>fiction</td>\n",
       "      <td>68488</td>\n",
       "      <td>8680</td>\n",
       "      <td>0.127</td>\n",
       "      <td>8.179</td>\n",
       "      <td>16.119</td>\n",
       "      <td>7.890</td>\n",
       "    </tr>\n",
       "    <tr>\n",
       "      <th>8</th>\n",
       "      <td>lore</td>\n",
       "      <td>110299</td>\n",
       "      <td>13403</td>\n",
       "      <td>0.122</td>\n",
       "      <td>8.603</td>\n",
       "      <td>22.598</td>\n",
       "      <td>8.229</td>\n",
       "    </tr>\n",
       "    <tr>\n",
       "      <th>0</th>\n",
       "      <td>adventure</td>\n",
       "      <td>69342</td>\n",
       "      <td>8289</td>\n",
       "      <td>0.120</td>\n",
       "      <td>8.145</td>\n",
       "      <td>14.954</td>\n",
       "      <td>8.366</td>\n",
       "    </tr>\n",
       "    <tr>\n",
       "      <th>9</th>\n",
       "      <td>mystery</td>\n",
       "      <td>57169</td>\n",
       "      <td>6463</td>\n",
       "      <td>0.113</td>\n",
       "      <td>8.118</td>\n",
       "      <td>14.712</td>\n",
       "      <td>8.846</td>\n",
       "    </tr>\n",
       "    <tr>\n",
       "      <th>13</th>\n",
       "      <td>romance</td>\n",
       "      <td>70022</td>\n",
       "      <td>7883</td>\n",
       "      <td>0.113</td>\n",
       "      <td>8.119</td>\n",
       "      <td>15.803</td>\n",
       "      <td>8.883</td>\n",
       "    </tr>\n",
       "    <tr>\n",
       "      <th>4</th>\n",
       "      <td>government</td>\n",
       "      <td>70117</td>\n",
       "      <td>7361</td>\n",
       "      <td>0.105</td>\n",
       "      <td>9.076</td>\n",
       "      <td>23.126</td>\n",
       "      <td>9.525</td>\n",
       "    </tr>\n",
       "    <tr>\n",
       "      <th>1</th>\n",
       "      <td>belles_lettres</td>\n",
       "      <td>173096</td>\n",
       "      <td>17058</td>\n",
       "      <td>0.099</td>\n",
       "      <td>8.603</td>\n",
       "      <td>24.011</td>\n",
       "      <td>10.147</td>\n",
       "    </tr>\n",
       "    <tr>\n",
       "      <th>7</th>\n",
       "      <td>learned</td>\n",
       "      <td>181888</td>\n",
       "      <td>15476</td>\n",
       "      <td>0.085</td>\n",
       "      <td>8.829</td>\n",
       "      <td>23.518</td>\n",
       "      <td>11.753</td>\n",
       "    </tr>\n",
       "  </tbody>\n",
       "</table>\n",
       "</div>"
      ],
      "text/plain": [
       "              genre  tokens  vocab lexical diversity average token length  \\\n",
       "6             humor   21695   4755             0.219                8.322   \n",
       "14  science_fiction   14470   3032             0.210                8.300   \n",
       "12          reviews   40704   8069             0.198                8.692   \n",
       "11         religion   39399   5931             0.151                8.563   \n",
       "2         editorial   61604   9109             0.148                8.744   \n",
       "5           hobbies   82345  10824             0.131                8.652   \n",
       "10             news  100554  13112             0.130                8.787   \n",
       "3           fiction   68488   8680             0.127                8.179   \n",
       "8              lore  110299  13403             0.122                8.603   \n",
       "0         adventure   69342   8289             0.120                8.145   \n",
       "9           mystery   57169   6463             0.113                8.118   \n",
       "13          romance   70022   7883             0.113                8.119   \n",
       "4        government   70117   7361             0.105                9.076   \n",
       "1    belles_lettres  173096  17058             0.099                8.603   \n",
       "7           learned  181888  15476             0.085                8.829   \n",
       "\n",
       "   average sentence length average word frequency  \n",
       "6                   20.603                  4.563  \n",
       "14                  15.264                  4.772  \n",
       "12                  23.246                  5.044  \n",
       "11                  22.960                  6.643  \n",
       "2                   20.555                  6.763  \n",
       "5                   19.639                  7.608  \n",
       "10                  21.751                  7.669  \n",
       "3                   16.119                  7.890  \n",
       "8                   22.598                  8.229  \n",
       "0                   14.954                  8.366  \n",
       "9                   14.712                  8.846  \n",
       "13                  15.803                  8.883  \n",
       "4                   23.126                  9.525  \n",
       "1                   24.011                 10.147  \n",
       "7                   23.518                 11.753  "
      ]
     },
     "metadata": {},
     "output_type": "display_data"
    }
   ],
   "source": [
    "genre_vocab = {}\n",
    "genre_info = []\n",
    "\n",
    "for genre in brown.categories():\n",
    "    n_chars = len(brown.raw(categories=genre))\n",
    "    text = brown.words(categories=genre)\n",
    "    n_tokens = len(text)\n",
    "    n_sents = len(brown.sents(categories=genre))\n",
    "    \n",
    "    vocab = sorted(set([word.lower() for word in text])) # ignore upper case\n",
    "    n_types = len(vocab) # number of word types in the vocabulary\n",
    "    lexical_diversity = n_types/n_tokens\n",
    "    genre_vocab[genre] = list(vocab)\n",
    "    \n",
    "    genre_info.append({'genre':genre,\n",
    "                       'tokens':n_tokens,\n",
    "                       'vocab':n_types,\n",
    "                       'lexical diversity':\"%.3f\" % lexical_diversity,\n",
    "                       'average token length': \"%.3f\" % (n_chars/n_tokens),\n",
    "                       'average sentence length': \"%.3f\" % (n_tokens/n_sents),\n",
    "                       'average word frequency': \"%.3f\" % (n_tokens/n_types)})\n",
    "    \n",
    "df_genre = pd.DataFrame(genre_info)\n",
    "display(df_genre.sort_values(by=['lexical diversity'], ascending=False)[['genre','tokens','vocab','lexical diversity','average token length','average sentence length','average word frequency']])\n",
    "\n",
    "# What do you learn from this table?"
   ]
  },
  {
   "cell_type": "markdown",
   "metadata": {},
   "source": [
    "Find most informative words of each genre\n",
    "    - top-n words that are most commonly used by each genre"
   ]
  },
  {
   "cell_type": "code",
   "execution_count": 19,
   "metadata": {},
   "outputs": [
    {
     "data": {
      "text/html": [
       "<div>\n",
       "<style scoped>\n",
       "    .dataframe tbody tr th:only-of-type {\n",
       "        vertical-align: middle;\n",
       "    }\n",
       "\n",
       "    .dataframe tbody tr th {\n",
       "        vertical-align: top;\n",
       "    }\n",
       "\n",
       "    .dataframe thead th {\n",
       "        text-align: right;\n",
       "    }\n",
       "</style>\n",
       "<table border=\"1\" class=\"dataframe\">\n",
       "  <thead>\n",
       "    <tr style=\"text-align: right;\">\n",
       "      <th></th>\n",
       "      <th>news</th>\n",
       "      <th>humor</th>\n",
       "      <th>fiction</th>\n",
       "    </tr>\n",
       "  </thead>\n",
       "  <tbody>\n",
       "    <tr>\n",
       "      <th>0</th>\n",
       "      <td>(the, 5580)</td>\n",
       "      <td>(,, 1331)</td>\n",
       "      <td>(,, 3654)</td>\n",
       "    </tr>\n",
       "    <tr>\n",
       "      <th>1</th>\n",
       "      <td>(,, 5188)</td>\n",
       "      <td>(the, 930)</td>\n",
       "      <td>(., 3639)</td>\n",
       "    </tr>\n",
       "    <tr>\n",
       "      <th>2</th>\n",
       "      <td>(., 4030)</td>\n",
       "      <td>(., 877)</td>\n",
       "      <td>(the, 3423)</td>\n",
       "    </tr>\n",
       "    <tr>\n",
       "      <th>3</th>\n",
       "      <td>(of, 2849)</td>\n",
       "      <td>(of, 515)</td>\n",
       "      <td>(and, 1696)</td>\n",
       "    </tr>\n",
       "    <tr>\n",
       "      <th>4</th>\n",
       "      <td>(and, 2146)</td>\n",
       "      <td>(and, 512)</td>\n",
       "      <td>(to, 1489)</td>\n",
       "    </tr>\n",
       "    <tr>\n",
       "      <th>5</th>\n",
       "      <td>(to, 2116)</td>\n",
       "      <td>(a, 505)</td>\n",
       "      <td>(of, 1419)</td>\n",
       "    </tr>\n",
       "    <tr>\n",
       "      <th>6</th>\n",
       "      <td>(a, 1993)</td>\n",
       "      <td>(to, 463)</td>\n",
       "      <td>(a, 1281)</td>\n",
       "    </tr>\n",
       "    <tr>\n",
       "      <th>7</th>\n",
       "      <td>(in, 1893)</td>\n",
       "      <td>(``, 343)</td>\n",
       "      <td>(was, 1082)</td>\n",
       "    </tr>\n",
       "    <tr>\n",
       "      <th>8</th>\n",
       "      <td>(for, 943)</td>\n",
       "      <td>('', 340)</td>\n",
       "      <td>(in, 916)</td>\n",
       "    </tr>\n",
       "    <tr>\n",
       "      <th>9</th>\n",
       "      <td>(The, 806)</td>\n",
       "      <td>(in, 334)</td>\n",
       "      <td>(he, 813)</td>\n",
       "    </tr>\n",
       "    <tr>\n",
       "      <th>10</th>\n",
       "      <td>(that, 802)</td>\n",
       "      <td>(was, 274)</td>\n",
       "      <td>(his, 735)</td>\n",
       "    </tr>\n",
       "    <tr>\n",
       "      <th>11</th>\n",
       "      <td>(``, 732)</td>\n",
       "      <td>(that, 241)</td>\n",
       "      <td>(had, 726)</td>\n",
       "    </tr>\n",
       "    <tr>\n",
       "      <th>12</th>\n",
       "      <td>(is, 732)</td>\n",
       "      <td>(I, 239)</td>\n",
       "      <td>(``, 703)</td>\n",
       "    </tr>\n",
       "    <tr>\n",
       "      <th>13</th>\n",
       "      <td>(was, 717)</td>\n",
       "      <td>(it, 162)</td>\n",
       "      <td>('', 698)</td>\n",
       "    </tr>\n",
       "    <tr>\n",
       "      <th>14</th>\n",
       "      <td>('', 702)</td>\n",
       "      <td>(?, 152)</td>\n",
       "      <td>(?, 564)</td>\n",
       "    </tr>\n",
       "    <tr>\n",
       "      <th>15</th>\n",
       "      <td>(on, 657)</td>\n",
       "      <td>(for, 150)</td>\n",
       "      <td>(that, 530)</td>\n",
       "    </tr>\n",
       "    <tr>\n",
       "      <th>16</th>\n",
       "      <td>(at, 598)</td>\n",
       "      <td>(had, 149)</td>\n",
       "      <td>(I, 511)</td>\n",
       "    </tr>\n",
       "    <tr>\n",
       "      <th>17</th>\n",
       "      <td>(with, 545)</td>\n",
       "      <td>(he, 146)</td>\n",
       "      <td>(He, 495)</td>\n",
       "    </tr>\n",
       "    <tr>\n",
       "      <th>18</th>\n",
       "      <td>(be, 526)</td>\n",
       "      <td>(his, 137)</td>\n",
       "      <td>(with, 468)</td>\n",
       "    </tr>\n",
       "    <tr>\n",
       "      <th>19</th>\n",
       "      <td>(by, 497)</td>\n",
       "      <td>(you, 131)</td>\n",
       "      <td>(it, 458)</td>\n",
       "    </tr>\n",
       "  </tbody>\n",
       "</table>\n",
       "</div>"
      ],
      "text/plain": [
       "           news        humor      fiction\n",
       "0   (the, 5580)    (,, 1331)    (,, 3654)\n",
       "1     (,, 5188)   (the, 930)    (., 3639)\n",
       "2     (., 4030)     (., 877)  (the, 3423)\n",
       "3    (of, 2849)    (of, 515)  (and, 1696)\n",
       "4   (and, 2146)   (and, 512)   (to, 1489)\n",
       "5    (to, 2116)     (a, 505)   (of, 1419)\n",
       "6     (a, 1993)    (to, 463)    (a, 1281)\n",
       "7    (in, 1893)    (``, 343)  (was, 1082)\n",
       "8    (for, 943)    ('', 340)    (in, 916)\n",
       "9    (The, 806)    (in, 334)    (he, 813)\n",
       "10  (that, 802)   (was, 274)   (his, 735)\n",
       "11    (``, 732)  (that, 241)   (had, 726)\n",
       "12    (is, 732)     (I, 239)    (``, 703)\n",
       "13   (was, 717)    (it, 162)    ('', 698)\n",
       "14    ('', 702)     (?, 152)     (?, 564)\n",
       "15    (on, 657)   (for, 150)  (that, 530)\n",
       "16    (at, 598)   (had, 149)     (I, 511)\n",
       "17  (with, 545)    (he, 146)    (He, 495)\n",
       "18    (be, 526)   (his, 137)  (with, 468)\n",
       "19    (by, 497)   (you, 131)    (it, 458)"
      ]
     },
     "metadata": {},
     "output_type": "display_data"
    }
   ],
   "source": [
    "genre_fdict = {} # dict[genre] = {word_1:10, word_2:15, ...}\n",
    "for genre in brown.categories():\n",
    "    word_freq = {}\n",
    "    for word in brown.words(categories=genre):\n",
    "        if(word not in word_freq):\n",
    "            word_freq[word] = 1\n",
    "        else:\n",
    "            word_freq[word] += 1\n",
    "        \n",
    "    genre_fdict[genre] = sorted(word_freq.items(), key=lambda x: x[1], reverse=True)\n",
    "    \n",
    "    \n",
    "# display the most common n words for each genre   \n",
    "genre_topwords = {}\n",
    "topn = 20\n",
    "\n",
    "for genre in brown.categories():\n",
    "    genre_topwords[genre] = genre_fdict[genre][:topn]\n",
    "\n",
    "display(pd.DataFrame(genre_topwords)[['news','humor','fiction']])\n",
    "# what is the problem in this table?"
   ]
  },
  {
   "cell_type": "markdown",
   "metadata": {},
   "source": [
    "- Stop words\n",
    "    - extremely common words \n",
    "    - have little information"
   ]
  },
  {
   "cell_type": "code",
   "execution_count": 20,
   "metadata": {},
   "outputs": [
    {
     "data": {
      "text/html": [
       "<div>\n",
       "<style scoped>\n",
       "    .dataframe tbody tr th:only-of-type {\n",
       "        vertical-align: middle;\n",
       "    }\n",
       "\n",
       "    .dataframe tbody tr th {\n",
       "        vertical-align: top;\n",
       "    }\n",
       "\n",
       "    .dataframe thead th {\n",
       "        text-align: right;\n",
       "    }\n",
       "</style>\n",
       "<table border=\"1\" class=\"dataframe\">\n",
       "  <thead>\n",
       "    <tr style=\"text-align: right;\">\n",
       "      <th></th>\n",
       "      <th>news</th>\n",
       "      <th>humor</th>\n",
       "      <th>fiction</th>\n",
       "    </tr>\n",
       "  </thead>\n",
       "  <tbody>\n",
       "    <tr>\n",
       "      <th>0</th>\n",
       "      <td>(said, 406)</td>\n",
       "      <td>(said, 88)</td>\n",
       "      <td>(would, 291)</td>\n",
       "    </tr>\n",
       "    <tr>\n",
       "      <th>1</th>\n",
       "      <td>(would, 246)</td>\n",
       "      <td>(one, 77)</td>\n",
       "      <td>(said, 194)</td>\n",
       "    </tr>\n",
       "    <tr>\n",
       "      <th>2</th>\n",
       "      <td>(new, 241)</td>\n",
       "      <td>(would, 56)</td>\n",
       "      <td>(one, 184)</td>\n",
       "    </tr>\n",
       "    <tr>\n",
       "      <th>3</th>\n",
       "      <td>(one, 213)</td>\n",
       "      <td>(time, 44)</td>\n",
       "      <td>(could, 168)</td>\n",
       "    </tr>\n",
       "    <tr>\n",
       "      <th>4</th>\n",
       "      <td>(last, 177)</td>\n",
       "      <td>(even, 39)</td>\n",
       "      <td>(like, 151)</td>\n",
       "    </tr>\n",
       "    <tr>\n",
       "      <th>5</th>\n",
       "      <td>(two, 174)</td>\n",
       "      <td>(like, 36)</td>\n",
       "      <td>(man, 112)</td>\n",
       "    </tr>\n",
       "    <tr>\n",
       "      <th>6</th>\n",
       "      <td>(first, 158)</td>\n",
       "      <td>(could, 33)</td>\n",
       "      <td>(back, 104)</td>\n",
       "    </tr>\n",
       "    <tr>\n",
       "      <th>7</th>\n",
       "      <td>(state, 153)</td>\n",
       "      <td>(way, 28)</td>\n",
       "      <td>(time, 103)</td>\n",
       "    </tr>\n",
       "    <tr>\n",
       "      <th>8</th>\n",
       "      <td>(year, 142)</td>\n",
       "      <td>(things, 28)</td>\n",
       "      <td>(came, 91)</td>\n",
       "    </tr>\n",
       "    <tr>\n",
       "      <th>9</th>\n",
       "      <td>(president, 142)</td>\n",
       "      <td>(two, 26)</td>\n",
       "      <td>(get, 84)</td>\n",
       "    </tr>\n",
       "    <tr>\n",
       "      <th>10</th>\n",
       "      <td>(home, 132)</td>\n",
       "      <td>(get, 25)</td>\n",
       "      <td>(little, 82)</td>\n",
       "    </tr>\n",
       "    <tr>\n",
       "      <th>11</th>\n",
       "      <td>(also, 129)</td>\n",
       "      <td>(little, 25)</td>\n",
       "      <td>(old, 82)</td>\n",
       "    </tr>\n",
       "    <tr>\n",
       "      <th>12</th>\n",
       "      <td>(made, 107)</td>\n",
       "      <td>(mother, 24)</td>\n",
       "      <td>(went, 79)</td>\n",
       "    </tr>\n",
       "    <tr>\n",
       "      <th>13</th>\n",
       "      <td>(time, 103)</td>\n",
       "      <td>(arlene, 24)</td>\n",
       "      <td>(know, 78)</td>\n",
       "    </tr>\n",
       "    <tr>\n",
       "      <th>14</th>\n",
       "      <td>(years, 102)</td>\n",
       "      <td>(man, 23)</td>\n",
       "      <td>(thought, 76)</td>\n",
       "    </tr>\n",
       "    <tr>\n",
       "      <th>15</th>\n",
       "      <td>(three, 101)</td>\n",
       "      <td>(made, 23)</td>\n",
       "      <td>(two, 76)</td>\n",
       "    </tr>\n",
       "    <tr>\n",
       "      <th>16</th>\n",
       "      <td>(house, 97)</td>\n",
       "      <td>(us, 23)</td>\n",
       "      <td>(go, 74)</td>\n",
       "    </tr>\n",
       "    <tr>\n",
       "      <th>17</th>\n",
       "      <td>(week, 94)</td>\n",
       "      <td>(years, 21)</td>\n",
       "      <td>(men, 73)</td>\n",
       "    </tr>\n",
       "    <tr>\n",
       "      <th>18</th>\n",
       "      <td>(city, 93)</td>\n",
       "      <td>(day, 21)</td>\n",
       "      <td>(looked, 73)</td>\n",
       "    </tr>\n",
       "    <tr>\n",
       "      <th>19</th>\n",
       "      <td>(may, 93)</td>\n",
       "      <td>(never, 20)</td>\n",
       "      <td>(never, 72)</td>\n",
       "    </tr>\n",
       "  </tbody>\n",
       "</table>\n",
       "</div>"
      ],
      "text/plain": [
       "                news         humor        fiction\n",
       "0        (said, 406)    (said, 88)   (would, 291)\n",
       "1       (would, 246)     (one, 77)    (said, 194)\n",
       "2         (new, 241)   (would, 56)     (one, 184)\n",
       "3         (one, 213)    (time, 44)   (could, 168)\n",
       "4        (last, 177)    (even, 39)    (like, 151)\n",
       "5         (two, 174)    (like, 36)     (man, 112)\n",
       "6       (first, 158)   (could, 33)    (back, 104)\n",
       "7       (state, 153)     (way, 28)    (time, 103)\n",
       "8        (year, 142)  (things, 28)     (came, 91)\n",
       "9   (president, 142)     (two, 26)      (get, 84)\n",
       "10       (home, 132)     (get, 25)   (little, 82)\n",
       "11       (also, 129)  (little, 25)      (old, 82)\n",
       "12       (made, 107)  (mother, 24)     (went, 79)\n",
       "13       (time, 103)  (arlene, 24)     (know, 78)\n",
       "14      (years, 102)     (man, 23)  (thought, 76)\n",
       "15      (three, 101)    (made, 23)      (two, 76)\n",
       "16       (house, 97)      (us, 23)       (go, 74)\n",
       "17        (week, 94)   (years, 21)      (men, 73)\n",
       "18        (city, 93)     (day, 21)   (looked, 73)\n",
       "19         (may, 93)   (never, 20)    (never, 72)"
      ]
     },
     "metadata": {},
     "output_type": "display_data"
    }
   ],
   "source": [
    "from nltk.corpus import stopwords\n",
    "stopwords.words('english')\n",
    "\n",
    "genre_fdict = {} # dict[genre] = {word_1:10, word_2:15, ...}\n",
    "for genre in brown.categories():\n",
    "    word_freq = {}\n",
    "    for word in brown.words(categories=genre):\n",
    "        word = word.lower()\n",
    "        # exclude non-alphabet strings (e.g., punctuation) and stop words\n",
    "        if(word.isalpha() and word not in stopwords.words('english')):\n",
    "            if(word not in word_freq):\n",
    "                word_freq[word] = 1\n",
    "            else:\n",
    "                word_freq[word] += 1\n",
    "        \n",
    "    genre_fdict[genre] = sorted(word_freq.items(), key=lambda x: x[1], reverse=True)\n",
    "    \n",
    "    \n",
    "# display the most common n words for each genre   \n",
    "genre_topwords = {}\n",
    "topn = 20\n",
    "\n",
    "for genre in brown.categories():\n",
    "    genre_topwords[genre] = genre_fdict[genre][:topn]\n",
    "\n",
    "display(pd.DataFrame(genre_topwords)[['news','humor','fiction']])"
   ]
  },
  {
   "cell_type": "markdown",
   "metadata": {},
   "source": [
    "- Simplify the code: nltk.FreqDist()"
   ]
  },
  {
   "cell_type": "code",
   "execution_count": 21,
   "metadata": {},
   "outputs": [
    {
     "data": {
      "text/html": [
       "<div>\n",
       "<style scoped>\n",
       "    .dataframe tbody tr th:only-of-type {\n",
       "        vertical-align: middle;\n",
       "    }\n",
       "\n",
       "    .dataframe tbody tr th {\n",
       "        vertical-align: top;\n",
       "    }\n",
       "\n",
       "    .dataframe thead th {\n",
       "        text-align: right;\n",
       "    }\n",
       "</style>\n",
       "<table border=\"1\" class=\"dataframe\">\n",
       "  <thead>\n",
       "    <tr style=\"text-align: right;\">\n",
       "      <th></th>\n",
       "      <th>news</th>\n",
       "      <th>humor</th>\n",
       "      <th>fiction</th>\n",
       "    </tr>\n",
       "  </thead>\n",
       "  <tbody>\n",
       "    <tr>\n",
       "      <th>0</th>\n",
       "      <td>(said, 406)</td>\n",
       "      <td>(said, 88)</td>\n",
       "      <td>(would, 291)</td>\n",
       "    </tr>\n",
       "    <tr>\n",
       "      <th>1</th>\n",
       "      <td>(would, 246)</td>\n",
       "      <td>(one, 77)</td>\n",
       "      <td>(said, 194)</td>\n",
       "    </tr>\n",
       "    <tr>\n",
       "      <th>2</th>\n",
       "      <td>(new, 241)</td>\n",
       "      <td>(would, 56)</td>\n",
       "      <td>(one, 184)</td>\n",
       "    </tr>\n",
       "    <tr>\n",
       "      <th>3</th>\n",
       "      <td>(one, 213)</td>\n",
       "      <td>(time, 44)</td>\n",
       "      <td>(could, 168)</td>\n",
       "    </tr>\n",
       "    <tr>\n",
       "      <th>4</th>\n",
       "      <td>(last, 177)</td>\n",
       "      <td>(even, 39)</td>\n",
       "      <td>(like, 151)</td>\n",
       "    </tr>\n",
       "    <tr>\n",
       "      <th>5</th>\n",
       "      <td>(two, 174)</td>\n",
       "      <td>(like, 36)</td>\n",
       "      <td>(man, 112)</td>\n",
       "    </tr>\n",
       "    <tr>\n",
       "      <th>6</th>\n",
       "      <td>(first, 158)</td>\n",
       "      <td>(could, 33)</td>\n",
       "      <td>(back, 104)</td>\n",
       "    </tr>\n",
       "    <tr>\n",
       "      <th>7</th>\n",
       "      <td>(state, 153)</td>\n",
       "      <td>(way, 28)</td>\n",
       "      <td>(time, 103)</td>\n",
       "    </tr>\n",
       "    <tr>\n",
       "      <th>8</th>\n",
       "      <td>(year, 142)</td>\n",
       "      <td>(things, 28)</td>\n",
       "      <td>(came, 91)</td>\n",
       "    </tr>\n",
       "    <tr>\n",
       "      <th>9</th>\n",
       "      <td>(president, 142)</td>\n",
       "      <td>(two, 26)</td>\n",
       "      <td>(get, 84)</td>\n",
       "    </tr>\n",
       "    <tr>\n",
       "      <th>10</th>\n",
       "      <td>(home, 132)</td>\n",
       "      <td>(get, 25)</td>\n",
       "      <td>(little, 82)</td>\n",
       "    </tr>\n",
       "    <tr>\n",
       "      <th>11</th>\n",
       "      <td>(also, 129)</td>\n",
       "      <td>(little, 25)</td>\n",
       "      <td>(old, 82)</td>\n",
       "    </tr>\n",
       "    <tr>\n",
       "      <th>12</th>\n",
       "      <td>(made, 107)</td>\n",
       "      <td>(mother, 24)</td>\n",
       "      <td>(went, 79)</td>\n",
       "    </tr>\n",
       "    <tr>\n",
       "      <th>13</th>\n",
       "      <td>(time, 103)</td>\n",
       "      <td>(arlene, 24)</td>\n",
       "      <td>(know, 78)</td>\n",
       "    </tr>\n",
       "    <tr>\n",
       "      <th>14</th>\n",
       "      <td>(years, 102)</td>\n",
       "      <td>(man, 23)</td>\n",
       "      <td>(thought, 76)</td>\n",
       "    </tr>\n",
       "    <tr>\n",
       "      <th>15</th>\n",
       "      <td>(three, 101)</td>\n",
       "      <td>(made, 23)</td>\n",
       "      <td>(two, 76)</td>\n",
       "    </tr>\n",
       "    <tr>\n",
       "      <th>16</th>\n",
       "      <td>(house, 97)</td>\n",
       "      <td>(us, 23)</td>\n",
       "      <td>(go, 74)</td>\n",
       "    </tr>\n",
       "    <tr>\n",
       "      <th>17</th>\n",
       "      <td>(week, 94)</td>\n",
       "      <td>(years, 21)</td>\n",
       "      <td>(men, 73)</td>\n",
       "    </tr>\n",
       "    <tr>\n",
       "      <th>18</th>\n",
       "      <td>(city, 93)</td>\n",
       "      <td>(day, 21)</td>\n",
       "      <td>(looked, 73)</td>\n",
       "    </tr>\n",
       "    <tr>\n",
       "      <th>19</th>\n",
       "      <td>(may, 93)</td>\n",
       "      <td>(never, 20)</td>\n",
       "      <td>(never, 72)</td>\n",
       "    </tr>\n",
       "  </tbody>\n",
       "</table>\n",
       "</div>"
      ],
      "text/plain": [
       "                news         humor        fiction\n",
       "0        (said, 406)    (said, 88)   (would, 291)\n",
       "1       (would, 246)     (one, 77)    (said, 194)\n",
       "2         (new, 241)   (would, 56)     (one, 184)\n",
       "3         (one, 213)    (time, 44)   (could, 168)\n",
       "4        (last, 177)    (even, 39)    (like, 151)\n",
       "5         (two, 174)    (like, 36)     (man, 112)\n",
       "6       (first, 158)   (could, 33)    (back, 104)\n",
       "7       (state, 153)     (way, 28)    (time, 103)\n",
       "8        (year, 142)  (things, 28)     (came, 91)\n",
       "9   (president, 142)     (two, 26)      (get, 84)\n",
       "10       (home, 132)     (get, 25)   (little, 82)\n",
       "11       (also, 129)  (little, 25)      (old, 82)\n",
       "12       (made, 107)  (mother, 24)     (went, 79)\n",
       "13       (time, 103)  (arlene, 24)     (know, 78)\n",
       "14      (years, 102)     (man, 23)  (thought, 76)\n",
       "15      (three, 101)    (made, 23)      (two, 76)\n",
       "16       (house, 97)      (us, 23)       (go, 74)\n",
       "17        (week, 94)   (years, 21)      (men, 73)\n",
       "18        (city, 93)     (day, 21)   (looked, 73)\n",
       "19         (may, 93)   (never, 20)    (never, 72)"
      ]
     },
     "metadata": {},
     "output_type": "display_data"
    }
   ],
   "source": [
    "genre_fdict = {} # dict[genre] = {word_1:10, word_2:15, ...}\n",
    "for genre in ['news','humor','fiction']:\n",
    "    word_list = []\n",
    "    for word in brown.words(categories=genre):\n",
    "        word = word.lower()\n",
    "        if (word.isalpha() and word not in stopwords.words('english')):\n",
    "            word_list.append(word)\n",
    "            \n",
    "    genre_fdict[genre] = nltk.FreqDist(word_list)\n",
    "     \n",
    "    \n",
    "# display the most common n words for each genre   \n",
    "genre_topwords = {}\n",
    "topn = 20\n",
    "\n",
    "for genre in ['news','humor','fiction']:\n",
    "    genre_topwords[genre] = genre_fdict[genre].most_common(20)\n",
    "\n",
    "display(pd.DataFrame(genre_topwords))##[['news','humor','fiction']])"
   ]
  },
  {
   "cell_type": "markdown",
   "metadata": {},
   "source": [
    "- Check the context of a given word"
   ]
  },
  {
   "cell_type": "code",
   "execution_count": 22,
   "metadata": {},
   "outputs": [
    {
     "name": "stdout",
     "output_type": "stream",
     "text": [
      "Displaying 25 of 25 matches:\n",
      "of Hays , Kan. as the school's new president . Dr. Clark will succeed Dr. J. R.\n",
      " dollars , said C. Virgil Martin , president of Carson Pirie Scott & Co. , comm\n",
      "dants '' . Washington , July 24 -- President Kennedy today pushed aside other W\n",
      "ionwide television and radio . The President spent much of the week-end at his \n",
      "drafts '' . Salinger said the work President Kennedy , advisers , and members o\n",
      "miss them . Washington , Feb. 9 -- President Kennedy today proposed a mammoth n\n",
      "railroad retirement programs . The President , in a special message to Congress\n",
      "ged care plan , similar to one the President sponsored last year as a senator ,\n",
      "or up to 240 days an illness . The President noted that Congress last year pass\n",
      "e medical and dental schools . The President said the nation's 92 medical and 4\n",
      "go up to 21 millions by 1966 . The President recommended federal `` matching gr\n",
      "community health services '' , the President called for doubling the present 10\n",
      " . In the child health field , the President said he will recommend later an in\n",
      "nstitute . Asks research funds The President said he will ask Congress to incre\n",
      "building research facilities . The President said he will also propose increasi\n",
      "ernment research in medicine . The President said his proposals combine the `` \n",
      "e ( D. , Ore. ) in connection with President Eisenhower's cabinet selections in\n",
      "r's cabinet selections in 1953 and President Kennedy's in 1961 . Oslo The most \n",
      "e was critical of what he feels is President Kennedy's tendency to be too conci\n",
      "cation . But he did recommend that President Kennedy state clearly that if Comm\n",
      " any observer would have said that President Kennedy had blended a program that\n",
      "nquency in the United States . The President is deeply concerned over this prob\n",
      "orities on juvenile problems . The President asks the support and cooperation o\n",
      "rime trend . Offenses multiply The President has also called upon the Attorney \n",
      "h the problem . Simultaneously the President announced Thursday the appointment\n"
     ]
    }
   ],
   "source": [
    "from nltk.text import Text\n",
    "\n",
    "Text(brown.words(categories='news')).concordance(\"president\")"
   ]
  },
  {
   "cell_type": "code",
   "execution_count": 23,
   "metadata": {},
   "outputs": [
    {
     "name": "stdout",
     "output_type": "stream",
     "text": [
      "Displaying 16 of 16 matches:\n",
      " hot tamale . At the moment , Barco's back was to the road so he didn't see the \n",
      "f the nature of the charge , took him back to Hollywood for questioning . Thus i\n",
      "ing deeper than overvaulting ambition back of his desire for Viola's destruction\n",
      "s nearly lunchtime , I brought myself back to the tasks at hand . I made plans f\n",
      " , roaming , gardening , lying on his back and watching the clouds go by , was b\n",
      "upon his reappearance . He kissed her back . Not without good reason has the ana\n",
      "e called in his absence . `` I may be back '' , he explained , `` and then again\n",
      "nk , and said , `` I admit that going back to Ralph Waldo Emerson for humor is l\n",
      "at his peacocks again , and then came back and sat down , restively . `` The wor\n",
      "s horse . They wanted to see what his back felt like -- the General's . He looke\n",
      "e policeman walked on , but he looked back once . That had happened on the day w\n",
      "m said . They both laughed and winked back . `` I'm General Burnside's horse , u\n",
      "n it was upside down . Then , she was back on her feet , winking and smiling tha\n",
      "en told . Their father , when he came back from those many business trips , just\n",
      "pearing were hands that crept quickly back around to the kitchen side of the doo\n",
      "led with our joss . A couple of years back , I occupied a Village apartment whos\n"
     ]
    }
   ],
   "source": [
    "Text(brown.words(categories='humor')).concordance(\"back\")"
   ]
  },
  {
   "cell_type": "markdown",
   "metadata": {},
   "source": [
    "### Word usage differences between genres\n",
    "    - Compare genres in their usage of modal verbs \n",
    "    - Modal verbs: can, must, may, might, will, would, should. \n",
    "        - used with other verbs to express ability, obligation, possibility, and so on.\n",
    "\n",
    "\n",
    "<img src=\"./modal_verbs.png\" width=\"600\" align=\"center\">"
   ]
  },
  {
   "cell_type": "code",
   "execution_count": 24,
   "metadata": {},
   "outputs": [
    {
     "name": "stdout",
     "output_type": "stream",
     "text": [
      "can: 94; could: 87; may: 93; might: 38; must: 53; will: 389; "
     ]
    }
   ],
   "source": [
    "from nltk.corpus import brown\n",
    "\n",
    "# modal verb frequency for a particular genre\n",
    "news_text = brown.words(categories='news')\n",
    "\n",
    "# word frequency distribution: how often each word occurs in a text\n",
    "fdist = nltk.FreqDist(w.lower() for w in news_text) \n",
    "\n",
    "modals = ['can', 'could', 'may', 'might', 'must', 'will']\n",
    "for m in modals:\n",
    "    print(m + ':', fdist[m], end='; ') # print its output on a single line"
   ]
  },
  {
   "cell_type": "code",
   "execution_count": 25,
   "metadata": {},
   "outputs": [
    {
     "data": {
      "text/plain": [
       "FreqDist({'the': 6386, ',': 5188, '.': 4030, 'of': 2861, 'and': 2186, 'to': 2144, 'a': 2130, 'in': 2020, 'for': 969, 'that': 829, ...})"
      ]
     },
     "execution_count": 25,
     "metadata": {},
     "output_type": "execute_result"
    }
   ],
   "source": [
    "fdist # dict['word'] = frequency"
   ]
  },
  {
   "cell_type": "code",
   "execution_count": 26,
   "metadata": {},
   "outputs": [
    {
     "data": {
      "text/plain": [
       "268"
      ]
     },
     "execution_count": 26,
     "metadata": {},
     "output_type": "execute_result"
    }
   ],
   "source": [
    "fdist['who']"
   ]
  },
  {
   "cell_type": "markdown",
   "metadata": {},
   "source": [
    "- Calculate modal verb frequency to distinguish genres\n",
    "    - We'll use NLTK's support for conditional frequency distributions. "
   ]
  },
  {
   "cell_type": "code",
   "execution_count": 27,
   "metadata": {},
   "outputs": [
    {
     "name": "stdout",
     "output_type": "stream",
     "text": [
      "                  can could   may might  must  will \n",
      "           news    93    86    66    38    50   389 \n",
      "       religion    82    59    78    12    54    71 \n",
      "        hobbies   268    58   131    22    83   264 \n",
      "science_fiction    16    49     4    12     8    16 \n",
      "        romance    74   193    11    51    45    43 \n",
      "          humor    16    30     8     8     9    13 \n"
     ]
    }
   ],
   "source": [
    "# ConditionalFreqDist takes a list of pairs (condition, event)\n",
    "cfd = nltk.ConditionalFreqDist((genre, word) for genre in brown.categories() for word in brown.words(categories=genre))\n",
    "genres = ['news', 'religion', 'hobbies', 'science_fiction', 'romance', 'humor']\n",
    "modals = ['can', 'could', 'may', 'might', 'must', 'will']\n",
    "cfd.tabulate(conditions=genres, samples=modals)"
   ]
  },
  {
   "cell_type": "code",
   "execution_count": 28,
   "metadata": {},
   "outputs": [
    {
     "data": {
      "text/plain": [
       "<ConditionalFreqDist with 15 conditions>"
      ]
     },
     "execution_count": 28,
     "metadata": {},
     "output_type": "execute_result"
    }
   ],
   "source": [
    "cfd"
   ]
  },
  {
   "cell_type": "code",
   "execution_count": 29,
   "metadata": {},
   "outputs": [
    {
     "data": {
      "text/plain": [
       "['adventure',\n",
       " 'belles_lettres',\n",
       " 'editorial',\n",
       " 'fiction',\n",
       " 'government',\n",
       " 'hobbies',\n",
       " 'humor',\n",
       " 'learned',\n",
       " 'lore',\n",
       " 'mystery',\n",
       " 'news',\n",
       " 'religion',\n",
       " 'reviews',\n",
       " 'romance',\n",
       " 'science_fiction']"
      ]
     },
     "execution_count": 29,
     "metadata": {},
     "output_type": "execute_result"
    }
   ],
   "source": [
    "cfd.conditions()"
   ]
  },
  {
   "cell_type": "code",
   "execution_count": 30,
   "metadata": {},
   "outputs": [
    {
     "data": {
      "text/plain": [
       "FreqDist({',': 3899, '.': 3736, 'the': 2758, 'and': 1776, 'to': 1502, 'a': 1335, 'of': 1186, '``': 1045, \"''\": 1044, 'was': 993, ...})"
      ]
     },
     "execution_count": 30,
     "metadata": {},
     "output_type": "execute_result"
    }
   ],
   "source": [
    "cfd['romance'] # frequency distribution: {word: frequency}\n",
    "# nltk.FreqDist(brown.words(categories='romance')) "
   ]
  },
  {
   "cell_type": "code",
   "execution_count": 31,
   "metadata": {},
   "outputs": [
    {
     "name": "stdout",
     "output_type": "stream",
     "text": [
      "                  who where  when   why  what   how \n",
      "           news   268    58   128     9    76    37 \n",
      "       religion   100    20    53    14    64    23 \n",
      "        hobbies   103    72   119    10    78    40 \n",
      "science_fiction    13    10    21     4    27    12 \n",
      "        romance    89    54   126    34   121    60 \n",
      "          humor    48    15    52     9    36    18 \n"
     ]
    }
   ],
   "source": [
    "cfd = nltk.ConditionalFreqDist((genre, word) for genre in brown.categories() for word in brown.words(categories=genre))\n",
    "cfd.tabulate(conditions=genres, samples=['who','where','when','why','what','how'])"
   ]
  },
  {
   "cell_type": "markdown",
   "metadata": {},
   "source": [
    "## Zipf's law"
   ]
  },
  {
   "cell_type": "markdown",
   "metadata": {},
   "source": [
    "- American linguist George Kingsley Zipf, the first who tried to explain it around 1935\n",
    "    - modeling the distribution of terms\n",
    "    - relationship between word frequencies and ranks\n",
    "    - empirical law based on observation: \n",
    "        - he discovered this law by looking at the relative frequencies of words in a large text, like the famous book Moby Dick. \n",
    " \n",
    "\n",
    "- \"Zipf's law is the biggest mystery in computational linguistics\" - Sander Lestrade"
   ]
  },
  {
   "cell_type": "code",
   "execution_count": 32,
   "metadata": {},
   "outputs": [],
   "source": [
    "import numpy as np\n",
    "def get_word_frequency():\n",
    "    \"\"\"\n",
    "    Calculate words' frequency and rank words by frequency descending order\n",
    "    \"\"\"\n",
    "    word_freq = {}\n",
    "\n",
    "    for word in brown.words(): # , 'editorial', 'reviews'\n",
    "        if(word.isalpha()): # check if a word only include alphabet letters\n",
    "            if(word not in word_freq):\n",
    "                word_freq[word] = 1\n",
    "            else:\n",
    "                word_freq[word] += 1\n",
    "\n",
    "    # sort in frequency descending order\n",
    "    sorted_word_freq = sorted(word_freq.items(), key=lambda item: item[1], reverse=True)\n",
    "    \n",
    "    return sorted_word_freq\n",
    "\n",
    "sorted_word_freq = get_word_frequency()\n"
   ]
  },
  {
   "cell_type": "code",
   "execution_count": 33,
   "metadata": {},
   "outputs": [],
   "source": [
    "def display_freq_words(sorted_word_freq, topn):\n",
    "    \"\"\"\n",
    "    display topn most frequent words \n",
    "    \"\"\"\n",
    "\n",
    "    word_freq_topn = sorted_word_freq[:topn] \n",
    "\n",
    "    df_brown_topn = pd.DataFrame({'word': [word for word, freq in word_freq_topn],\n",
    "                       'frequency': [freq for word, freq in word_freq_topn],\n",
    "                       'rank': range(1,len(word_freq_topn)+1),\n",
    "                       'Pr(%)': [float(\"{:.2f}\".format(v)) for v in np.array([freq for word, freq in word_freq_topn])/sum([freq for word, freq in sorted_word_freq])]\n",
    "                      })\n",
    "    df_brown_topn['frequency*rank'] = df_brown_topn['frequency']*df_brown_topn['rank']\n",
    "    df_brown_topn['Pr(%)*rank'] = df_brown_topn['Pr(%)']*df_brown_topn['rank']\n",
    "\n",
    "    return df_brown_topn\n"
   ]
  },
  {
   "cell_type": "code",
   "execution_count": 34,
   "metadata": {},
   "outputs": [
    {
     "data": {
      "text/html": [
       "<div>\n",
       "<style scoped>\n",
       "    .dataframe tbody tr th:only-of-type {\n",
       "        vertical-align: middle;\n",
       "    }\n",
       "\n",
       "    .dataframe tbody tr th {\n",
       "        vertical-align: top;\n",
       "    }\n",
       "\n",
       "    .dataframe thead th {\n",
       "        text-align: right;\n",
       "    }\n",
       "</style>\n",
       "<table border=\"1\" class=\"dataframe\">\n",
       "  <thead>\n",
       "    <tr style=\"text-align: right;\">\n",
       "      <th></th>\n",
       "      <th>word</th>\n",
       "      <th>frequency</th>\n",
       "      <th>rank</th>\n",
       "      <th>Pr(%)</th>\n",
       "      <th>frequency*rank</th>\n",
       "      <th>Pr(%)*rank</th>\n",
       "    </tr>\n",
       "  </thead>\n",
       "  <tbody>\n",
       "    <tr>\n",
       "      <th>0</th>\n",
       "      <td>the</td>\n",
       "      <td>62713</td>\n",
       "      <td>1</td>\n",
       "      <td>0.06</td>\n",
       "      <td>62713</td>\n",
       "      <td>0.06</td>\n",
       "    </tr>\n",
       "    <tr>\n",
       "      <th>1</th>\n",
       "      <td>of</td>\n",
       "      <td>36080</td>\n",
       "      <td>2</td>\n",
       "      <td>0.04</td>\n",
       "      <td>72160</td>\n",
       "      <td>0.08</td>\n",
       "    </tr>\n",
       "    <tr>\n",
       "      <th>2</th>\n",
       "      <td>and</td>\n",
       "      <td>27915</td>\n",
       "      <td>3</td>\n",
       "      <td>0.03</td>\n",
       "      <td>83745</td>\n",
       "      <td>0.09</td>\n",
       "    </tr>\n",
       "    <tr>\n",
       "      <th>3</th>\n",
       "      <td>to</td>\n",
       "      <td>25732</td>\n",
       "      <td>4</td>\n",
       "      <td>0.03</td>\n",
       "      <td>102928</td>\n",
       "      <td>0.12</td>\n",
       "    </tr>\n",
       "    <tr>\n",
       "      <th>4</th>\n",
       "      <td>a</td>\n",
       "      <td>21881</td>\n",
       "      <td>5</td>\n",
       "      <td>0.02</td>\n",
       "      <td>109405</td>\n",
       "      <td>0.10</td>\n",
       "    </tr>\n",
       "    <tr>\n",
       "      <th>5</th>\n",
       "      <td>in</td>\n",
       "      <td>19536</td>\n",
       "      <td>6</td>\n",
       "      <td>0.02</td>\n",
       "      <td>117216</td>\n",
       "      <td>0.12</td>\n",
       "    </tr>\n",
       "    <tr>\n",
       "      <th>6</th>\n",
       "      <td>that</td>\n",
       "      <td>10237</td>\n",
       "      <td>7</td>\n",
       "      <td>0.01</td>\n",
       "      <td>71659</td>\n",
       "      <td>0.07</td>\n",
       "    </tr>\n",
       "    <tr>\n",
       "      <th>7</th>\n",
       "      <td>is</td>\n",
       "      <td>10011</td>\n",
       "      <td>8</td>\n",
       "      <td>0.01</td>\n",
       "      <td>80088</td>\n",
       "      <td>0.08</td>\n",
       "    </tr>\n",
       "    <tr>\n",
       "      <th>8</th>\n",
       "      <td>was</td>\n",
       "      <td>9777</td>\n",
       "      <td>9</td>\n",
       "      <td>0.01</td>\n",
       "      <td>87993</td>\n",
       "      <td>0.09</td>\n",
       "    </tr>\n",
       "    <tr>\n",
       "      <th>9</th>\n",
       "      <td>for</td>\n",
       "      <td>8841</td>\n",
       "      <td>10</td>\n",
       "      <td>0.01</td>\n",
       "      <td>88410</td>\n",
       "      <td>0.10</td>\n",
       "    </tr>\n",
       "  </tbody>\n",
       "</table>\n",
       "</div>"
      ],
      "text/plain": [
       "   word  frequency  rank  Pr(%)  frequency*rank  Pr(%)*rank\n",
       "0   the      62713     1   0.06           62713        0.06\n",
       "1    of      36080     2   0.04           72160        0.08\n",
       "2   and      27915     3   0.03           83745        0.09\n",
       "3    to      25732     4   0.03          102928        0.12\n",
       "4     a      21881     5   0.02          109405        0.10\n",
       "5    in      19536     6   0.02          117216        0.12\n",
       "6  that      10237     7   0.01           71659        0.07\n",
       "7    is      10011     8   0.01           80088        0.08\n",
       "8   was       9777     9   0.01           87993        0.09\n",
       "9   for       8841    10   0.01           88410        0.10"
      ]
     },
     "metadata": {},
     "output_type": "display_data"
    }
   ],
   "source": [
    "df_brown_topn = display_freq_words(sorted_word_freq, topn=10)\n",
    "display(df_brown_topn)"
   ]
  },
  {
   "cell_type": "code",
   "execution_count": 35,
   "metadata": {},
   "outputs": [
    {
     "data": {
      "text/html": [
       "<div>\n",
       "<style scoped>\n",
       "    .dataframe tbody tr th:only-of-type {\n",
       "        vertical-align: middle;\n",
       "    }\n",
       "\n",
       "    .dataframe tbody tr th {\n",
       "        vertical-align: top;\n",
       "    }\n",
       "\n",
       "    .dataframe thead th {\n",
       "        text-align: right;\n",
       "    }\n",
       "</style>\n",
       "<table border=\"1\" class=\"dataframe\">\n",
       "  <thead>\n",
       "    <tr style=\"text-align: right;\">\n",
       "      <th></th>\n",
       "      <th>word</th>\n",
       "      <th>frequency</th>\n",
       "      <th>rank</th>\n",
       "      <th>frequency*rank</th>\n",
       "    </tr>\n",
       "  </thead>\n",
       "  <tbody>\n",
       "    <tr>\n",
       "      <th>0</th>\n",
       "      <td>the</td>\n",
       "      <td>62713</td>\n",
       "      <td>1</td>\n",
       "      <td>62713</td>\n",
       "    </tr>\n",
       "    <tr>\n",
       "      <th>1</th>\n",
       "      <td>of</td>\n",
       "      <td>36080</td>\n",
       "      <td>2</td>\n",
       "      <td>72160</td>\n",
       "    </tr>\n",
       "    <tr>\n",
       "      <th>2</th>\n",
       "      <td>and</td>\n",
       "      <td>27915</td>\n",
       "      <td>3</td>\n",
       "      <td>83745</td>\n",
       "    </tr>\n",
       "    <tr>\n",
       "      <th>3</th>\n",
       "      <td>to</td>\n",
       "      <td>25732</td>\n",
       "      <td>4</td>\n",
       "      <td>102928</td>\n",
       "    </tr>\n",
       "    <tr>\n",
       "      <th>4</th>\n",
       "      <td>a</td>\n",
       "      <td>21881</td>\n",
       "      <td>5</td>\n",
       "      <td>109405</td>\n",
       "    </tr>\n",
       "    <tr>\n",
       "      <th>5</th>\n",
       "      <td>in</td>\n",
       "      <td>19536</td>\n",
       "      <td>6</td>\n",
       "      <td>117216</td>\n",
       "    </tr>\n",
       "    <tr>\n",
       "      <th>6</th>\n",
       "      <td>that</td>\n",
       "      <td>10237</td>\n",
       "      <td>7</td>\n",
       "      <td>71659</td>\n",
       "    </tr>\n",
       "    <tr>\n",
       "      <th>7</th>\n",
       "      <td>is</td>\n",
       "      <td>10011</td>\n",
       "      <td>8</td>\n",
       "      <td>80088</td>\n",
       "    </tr>\n",
       "    <tr>\n",
       "      <th>8</th>\n",
       "      <td>was</td>\n",
       "      <td>9777</td>\n",
       "      <td>9</td>\n",
       "      <td>87993</td>\n",
       "    </tr>\n",
       "    <tr>\n",
       "      <th>9</th>\n",
       "      <td>for</td>\n",
       "      <td>8841</td>\n",
       "      <td>10</td>\n",
       "      <td>88410</td>\n",
       "    </tr>\n",
       "  </tbody>\n",
       "</table>\n",
       "</div>"
      ],
      "text/plain": [
       "   word  frequency  rank  frequency*rank\n",
       "0   the      62713     1           62713\n",
       "1    of      36080     2           72160\n",
       "2   and      27915     3           83745\n",
       "3    to      25732     4          102928\n",
       "4     a      21881     5          109405\n",
       "5    in      19536     6          117216\n",
       "6  that      10237     7           71659\n",
       "7    is      10011     8           80088\n",
       "8   was       9777     9           87993\n",
       "9   for       8841    10           88410"
      ]
     },
     "metadata": {},
     "output_type": "display_data"
    }
   ],
   "source": [
    "display(df_brown_topn[['word','frequency','rank', 'frequency*rank']])"
   ]
  },
  {
   "cell_type": "markdown",
   "metadata": {},
   "source": [
    "The word with rank k has a frequency roughly proportional to $\\frac{1}{k}$\n",
    "- the 2nd most commonly used word occurs about $\\frac{1}{2}$ as often as the 1st most common word\n",
    "- the 3rd most common word occurs about $\\frac{1}{3}$ as often as the 1st most common word\n",
    "\n",
    "$frequency * rank \\approx constant$\n",
    "\n",
    "$frequency \\approx constant \\quad / \\quad rank$\n"
   ]
  },
  {
   "cell_type": "code",
   "execution_count": 36,
   "metadata": {},
   "outputs": [
    {
     "data": {
      "text/plain": [
       "<matplotlib.legend.Legend at 0x7f4060582f60>"
      ]
     },
     "execution_count": 36,
     "metadata": {},
     "output_type": "execute_result"
    },
    {
     "data": {
      "image/png": "[encoded data removed]",
      "text/plain": [
       "<Figure size 640x480 with 1 Axes>"
      ]
     },
     "metadata": {},
     "output_type": "display_data"
    }
   ],
   "source": [
    "df_brown_topn = display_freq_words(sorted_word_freq, topn=-1)\n",
    "plt.plot(df_brown_topn['rank'].values, df_brown_topn['frequency'].values, 'o', label='(rank, freq)',alpha=0.5)\n",
    "plt.plot(df_brown_topn['rank'].values, [1/v for v in df_brown_topn['rank'].values], 'o', label='(rank, 1/rank)',alpha=0.5)\n",
    "plt.xlabel('rank')\n",
    "plt.ylabel('frequency / (1/rank)')\n",
    "plt.title(\"Relationship between word rank and frequency\")\n",
    "plt.legend()"
   ]
  },
  {
   "cell_type": "code",
   "execution_count": 37,
   "metadata": {},
   "outputs": [
    {
     "data": {
      "text/plain": [
       "Text(0.5, 1.0, 'y=2/x')"
      ]
     },
     "execution_count": 37,
     "metadata": {},
     "output_type": "execute_result"
    },
    {
     "data": {
      "image/png": "[encoded data removed]",
      "text/plain": [
       "<Figure size 1000x300 with 2 Axes>"
      ]
     },
     "metadata": {},
     "output_type": "display_data"
    }
   ],
   "source": [
    "fig, axs = plt.subplots(1,2, figsize=(10,3))\n",
    "axs[0].plot(range(1,1000),[-2*v+1 for v in range(1,1000)]) \n",
    "axs[0].set_title('y=-2*x+1')\n",
    "\n",
    "axs[1].plot(range(1,1000), [1/v for v in range(1,1000)])\n",
    "axs[1].set_title('y=2/x') # hyperbola"
   ]
  },
  {
   "cell_type": "markdown",
   "metadata": {},
   "source": [
    "Disadvantage of hyperbola:\n",
    "- skewness towards large values\n",
    "    - i.e., one or a few points are much larger than the bulk of the data\n",
    "\n",
    "How to show exponential or multiplicative relation in linear format?"
   ]
  },
  {
   "cell_type": "markdown",
   "metadata": {},
   "source": [
    "log\n",
    "- $frequency \\approx constant \\quad / \\quad rank $\n",
    "- $log(frequency) \\approx log(constant) - log(rank)$\n",
    "- $log(frequency) \\approx - log(rank) + log(constant) $\n",
    "- $y = -x + c$"
   ]
  },
  {
   "cell_type": "code",
   "execution_count": 39,
   "metadata": {},
   "outputs": [
    {
     "data": {
      "text/plain": [
       "<matplotlib.legend.Legend at 0x7f405f1dfb70>"
      ]
     },
     "execution_count": 39,
     "metadata": {},
     "output_type": "execute_result"
    },
    {
     "data": {
      "image/png": "[encoded data removed]",
      "text/plain": [
       "<Figure size 640x480 with 1 Axes>"
      ]
     },
     "metadata": {},
     "output_type": "display_data"
    }
   ],
   "source": [
    "df_brown_topn = display_freq_words(sorted_word_freq, topn=-1)\n",
    "plt.plot(np.log10(df_brown_topn['rank'].values), np.log10(df_brown_topn['frequency'].values), 'o', label='log(rank),log(freq)')\n",
    "plt.plot(np.log10(df_brown_topn['rank'].values), np.log10([1/v for v in df_brown_topn['rank'].values]), 'o', label='log(rank),log(1/rank)')\n",
    "\n",
    "plt.xlabel('log(rank)')\n",
    "plt.ylabel('log(frequency) or log(1/rank)')\n",
    "plt.title(\"Relationship between word rank and frequency (Logarithmic)\")\n",
    "\n",
    "plt.legend()\n",
    "\n",
    "# same slope, different intercept"
   ]
  },
  {
   "cell_type": "markdown",
   "metadata": {},
   "source": [
    "- Linear graph: best for showing values that change by addition\n",
    "- Logarithmic graph: best for showing values that change by a multiple\n",
    "    - Log-log plots: display data in both axes in logarithmic scales\n",
    "    - When one variable changes as a constant power of another, a log-log graph shows the relationship as a straight line.\n",
    "    - Test whether data fits a relationship in the form of $Y = k*X^n$ \n",
    "    - The equivalent linear function is: $log(Y) = log(k) + n*log(X)$\n",
    "    - If X and Y have a power law relationship, the data points follows a straight line in log-log plot"
   ]
  },
  {
   "cell_type": "markdown",
   "metadata": {},
   "source": [
    "**Zipf Distributions occur naturally in many situations**:\n",
    "- word usage\n",
    "- City populations \n",
    "    - a small number of large cities \n",
    "    - a larger number of smaller cities\n",
    "- Wealth distribution \n",
    "    - a small number of people have large amounts of money\n",
    "    - a large numbers of people have small amounts of money\n",
    "\n",
    "- Company size distribution\n",
    "- Colors in images\n",
    "- Calls to computer operating systems\n",
    "- Artificial intelligence \n",
    "    - \"chat bots\" that can chat with humans\n",
    "    - relies on the limited number of questions and statements that people actually write in chats"
   ]
  },
  {
   "cell_type": "markdown",
   "metadata": {},
   "source": [
    "## Gutenberg Corpus\n",
    "    - a small collection of texts from Project Gutenberg (a library of over 60,000 free eBooks)\n",
    "    - established literature, formal language\n",
    "    - http://www.gutenberg.org/\n",
    "    "
   ]
  },
  {
   "cell_type": "code",
   "execution_count": 641,
   "metadata": {},
   "outputs": [
    {
     "data": {
      "text/plain": [
       "['austen-emma.txt',\n",
       " 'austen-persuasion.txt',\n",
       " 'austen-sense.txt',\n",
       " 'bible-kjv.txt',\n",
       " 'blake-poems.txt',\n",
       " 'bryant-stories.txt',\n",
       " 'burgess-busterbrown.txt',\n",
       " 'carroll-alice.txt',\n",
       " 'chesterton-ball.txt',\n",
       " 'chesterton-brown.txt',\n",
       " 'chesterton-thursday.txt',\n",
       " 'edgeworth-parents.txt',\n",
       " 'melville-moby_dick.txt',\n",
       " 'milton-paradise.txt',\n",
       " 'shakespeare-caesar.txt',\n",
       " 'shakespeare-hamlet.txt',\n",
       " 'shakespeare-macbeth.txt',\n",
       " 'whitman-leaves.txt']"
      ]
     },
     "execution_count": 641,
     "metadata": {},
     "output_type": "execute_result"
    }
   ],
   "source": [
    "import nltk\n",
    "\n",
    "from nltk.corpus import gutenberg\n",
    "gutenberg.fileids()\n",
    "# austen-emma.txt: http://www.gutenberg.org/files/158/158-0.txt"
   ]
  },
  {
   "cell_type": "code",
   "execution_count": 642,
   "metadata": {},
   "outputs": [
    {
     "name": "stdout",
     "output_type": "stream",
     "text": [
      "Total number of .... in gutenberg corpus:\n",
      "characters: 11793318\n",
      "words: 2621613\n",
      "sentences: 98552\n",
      "paragraphs: 47887\n"
     ]
    }
   ],
   "source": [
    "# basic statistics about the gutenberg corpus\n",
    "print(\"Total number of .... in gutenberg corpus:\")\n",
    "print(\"characters:\", len(gutenberg.raw())) # including spaces and punctuations.\n",
    "print(\"words:\", len(gutenberg.words()))\n",
    "print(\"sentences:\", len(gutenberg.sents()))\n",
    "print(\"paragraphs:\", len(gutenberg.paras()))"
   ]
  },
  {
   "cell_type": "code",
   "execution_count": 59,
   "metadata": {},
   "outputs": [
    {
     "name": "stdout",
     "output_type": "stream",
     "text": [
      "Total number of .... in gutenberg corpus:\n",
      "characters: 887071\n",
      "words: 192427\n",
      "sentences: 7752\n",
      "paragraphs: 2371\n"
     ]
    }
   ],
   "source": [
    "# basic statistics about the 'austen-emma.txt' in gutenberg corpus\n",
    "\n",
    "print(\"Total number of .... in gutenberg corpus:\")\n",
    "print(\"characters:\", len(gutenberg.raw('austen-emma.txt')))\n",
    "print(\"words:\", len(gutenberg.words('austen-emma.txt')))\n",
    "print(\"sentences:\", len(gutenberg.sents('austen-emma.txt')))\n",
    "print(\"paragraphs:\", len(gutenberg.paras('austen-emma.txt')))"
   ]
  },
  {
   "cell_type": "code",
   "execution_count": 643,
   "metadata": {},
   "outputs": [
    {
     "name": "stdout",
     "output_type": "stream",
     "text": [
      "5 25 26 austen-emma.txt\n",
      "5 26 17 austen-persuasion.txt\n",
      "5 28 22 austen-sense.txt\n",
      "4 34 79 bible-kjv.txt\n",
      "5 19 5 blake-poems.txt\n",
      "4 19 14 bryant-stories.txt\n",
      "4 18 12 burgess-busterbrown.txt\n",
      "4 20 13 carroll-alice.txt\n",
      "5 20 12 chesterton-ball.txt\n",
      "5 23 11 chesterton-brown.txt\n",
      "5 18 11 chesterton-thursday.txt\n",
      "4 21 25 edgeworth-parents.txt\n",
      "5 26 15 melville-moby_dick.txt\n",
      "5 52 11 milton-paradise.txt\n",
      "4 12 9 shakespeare-caesar.txt\n",
      "4 12 8 shakespeare-hamlet.txt\n",
      "4 12 7 shakespeare-macbeth.txt\n",
      "5 36 12 whitman-leaves.txt\n"
     ]
    }
   ],
   "source": [
    "for fileid in gutenberg.fileids():\n",
    "    num_chars = len(gutenberg.raw(fileid)) # number of characters\n",
    "    num_words = len(gutenberg.words(fileid)) # number of words\n",
    "    num_sents = len(gutenberg.sents(fileid)) # number of sentences \n",
    "    vocab = set(w.lower() for w in gutenberg.words(fileid)) # vocabulary\n",
    "    num_vocab = len(vocab)\n",
    "\n",
    "    print(round(num_chars/num_words), # average word length\n",
    "          round(num_words/num_sents), # average sentence length\n",
    "          round(num_words/num_vocab), # frequency of each word in the vocabulary  (our lexical diversity score)\n",
    "          fileid)"
   ]
  },
  {
   "cell_type": "code",
   "execution_count": 645,
   "metadata": {},
   "outputs": [
    {
     "name": "stdout",
     "output_type": "stream",
     "text": [
      "longest sentence length: 274\n",
      "While he lived , it must be only an engagement ; but she flattered herself , that if divested of the danger of drawing her away , it might become an increase of comfort to him .-- How to do her best by Harriet , was of more difficult decision ;-- how to spare her from any unnecessary pain ; how to make her any possible atonement ; how to appear least her enemy ?-- On these subjects , her perplexity and distress were very great -- and her mind had to pass again and again through every bitter reproach and sorrowful regret that had ever surrounded it .-- She could only resolve at last , that she would still avoid a meeting with her , and communicate all that need be told by letter ; that it would be inexpressibly desirable to have her removed just now for a time from Highbury , and -- indulging in one scheme more -- nearly resolve , that it might be practicable to get an invitation for her to Brunswick Square .-- Isabella had been pleased with Harriet ; and a few weeks spent in London must give her some amusement .-- She did not think it in Harriet ' s nature to escape being benefited by novelty and variety , by the streets , the shops , and the children .-- At any rate , it would be a proof of attention and kindness in herself , from whom every thing was due ; a separation for the present ; an averting of the evil day , when they must all be together again .\n"
     ]
    }
   ],
   "source": [
    "# longest sentence \n",
    "emma_sents = gutenberg.sents('austen-emma.txt')\n",
    "longest_len = max(len(s) for s in emma_sents)\n",
    "print(\"longest sentence length:\", longest_len)\n",
    "print(' '.join([s for s in emma_sents if len(s) == longest_len][0]))"
   ]
  },
  {
   "cell_type": "markdown",
   "metadata": {},
   "source": [
    "## Web and chat text\n",
    "- less formal language \n",
    "- contents from: \n",
    "    - a Firefox discussion forum \n",
    "    - conversations overheard in New York \n",
    "    - the movie script of Pirates of the Carribean \n",
    "    - personal advertisements \n",
    "    - wine reviews"
   ]
  },
  {
   "cell_type": "code",
   "execution_count": 646,
   "metadata": {},
   "outputs": [
    {
     "name": "stdout",
     "output_type": "stream",
     "text": [
      "firefox.txt --> Cookie Manager: \"Don't allow sites that set removed cookies to se ...\n",
      "\n",
      "grail.txt --> SCENE 1: [wind] [clop clop clop] \n",
      "KING ARTHUR: Whoa there!  [clop ...\n",
      "\n",
      "overheard.txt --> White guy: So, do you have any plans for this evening?\n",
      "Asian girl ...\n",
      "\n",
      "pirates.txt --> PIRATES OF THE CARRIBEAN: DEAD MAN'S CHEST, by Ted Elliott & Terr ...\n",
      "\n",
      "singles.txt --> 25 SEXY MALE, seeks attrac older single lady, for discreet encoun ...\n",
      "\n",
      "wine.txt --> Lovely delicate, fragrant Rhone wine. Polished leather and strawb ...\n",
      "\n"
     ]
    }
   ],
   "source": [
    "from nltk.corpus import webtext\n",
    "\n",
    "for fileid in webtext.fileids():\n",
    "    print(fileid, '-->', webtext.raw(fileid)[:65], '...\\n') # display the first 65 letters in each file"
   ]
  },
  {
   "cell_type": "code",
   "execution_count": 647,
   "metadata": {},
   "outputs": [
    {
     "data": {
      "text/plain": [
       "'Cookie Manager: \"Don\\'t allow sites that set removed cookies to se'"
      ]
     },
     "execution_count": 647,
     "metadata": {},
     "output_type": "execute_result"
    }
   ],
   "source": [
    "webtext.raw('firefox.txt')[:65]"
   ]
  },
  {
   "cell_type": "markdown",
   "metadata": {},
   "source": [
    "## Nps_chat\n",
    "    - collected by Naval Postgraduate School for research on automatic detection of Internet predator\n",
    "    - over 10,000 instant messaging chat posts \n",
    "    - anonymized usernames with \"UserNNN\" and manually removed identifying information\n",
    "    - 15 files, where each file contains several hundred posts collected on a given date, for an age-specific chatroom (teens, 20s, 30s, 40s, plus a generic adults chatroom). \n",
    "    \n",
    "    - size: 301366"
   ]
  },
  {
   "cell_type": "code",
   "execution_count": 648,
   "metadata": {},
   "outputs": [
    {
     "data": {
      "text/plain": [
       "['10-19-20s_706posts.xml',\n",
       " '10-19-30s_705posts.xml',\n",
       " '10-19-40s_686posts.xml',\n",
       " '10-19-adults_706posts.xml',\n",
       " '10-24-40s_706posts.xml',\n",
       " '10-26-teens_706posts.xml',\n",
       " '11-06-adults_706posts.xml',\n",
       " '11-08-20s_705posts.xml',\n",
       " '11-08-40s_706posts.xml',\n",
       " '11-08-adults_705posts.xml',\n",
       " '11-08-teens_706posts.xml',\n",
       " '11-09-20s_706posts.xml',\n",
       " '11-09-40s_706posts.xml',\n",
       " '11-09-adults_706posts.xml',\n",
       " '11-09-teens_706posts.xml']"
      ]
     },
     "execution_count": 648,
     "metadata": {},
     "output_type": "execute_result"
    }
   ],
   "source": [
    "from nltk.corpus import nps_chat\n",
    "\n",
    "nps_chat.fileids() # filename contains the date, chatroom, and number of posts; \n",
    "# e.g., 10-19-20s_706posts.xml contains 706 posts gathered from the 20s chat room on 10/19/2006."
   ]
  },
  {
   "cell_type": "code",
   "execution_count": 649,
   "metadata": {},
   "outputs": [
    {
     "data": {
      "text/plain": [
       "[['now', 'im', 'left', 'with', 'this', 'gay', 'name'],\n",
       " [':P'],\n",
       " ['PART'],\n",
       " ['hey', 'everyone'],\n",
       " ['ah', 'well'],\n",
       " ['NICK', ':', 'U7'],\n",
       " ['U7', 'is', 'a', 'gay', 'name', '.'],\n",
       " ['.', 'ACTION', 'gives', 'U121', 'a', 'golf', 'clap', '.'],\n",
       " [':)'],\n",
       " ['JOIN']]"
      ]
     },
     "execution_count": 649,
     "metadata": {},
     "output_type": "execute_result"
    }
   ],
   "source": [
    "chatroom = nps_chat.posts('10-19-20s_706posts.xml')\n",
    "chatroom[:10]"
   ]
  },
  {
   "cell_type": "markdown",
   "metadata": {},
   "source": [
    "## Reuters Corpus\n",
    "- 10,788 news documents totaling 1.3 million words \n",
    "- 90 topics, two sets: \"training\" and \"test\"\n",
    "- categories overlap with each other\n",
    "    - e.g., a news story often covers multiple topics"
   ]
  },
  {
   "cell_type": "code",
   "execution_count": 650,
   "metadata": {},
   "outputs": [
    {
     "name": "stdout",
     "output_type": "stream",
     "text": [
      "['test/14826', 'test/14828', 'test/14829', 'test/14832', 'test/14833']\n",
      "90\n",
      "['acq', 'alum', 'barley', 'bop', 'carcass', 'castor-oil', 'cocoa', 'coconut', 'coconut-oil', 'coffee', 'copper', 'copra-cake', 'corn', 'cotton', 'cotton-oil', 'cpi', 'cpu', 'crude', 'dfl', 'dlr', 'dmk', 'earn', 'fuel', 'gas', 'gnp', 'gold', 'grain', 'groundnut', 'groundnut-oil', 'heat', 'hog', 'housing', 'income', 'instal-debt', 'interest', 'ipi', 'iron-steel', 'jet', 'jobs', 'l-cattle', 'lead', 'lei', 'lin-oil', 'livestock', 'lumber', 'meal-feed', 'money-fx', 'money-supply', 'naphtha', 'nat-gas', 'nickel', 'nkr', 'nzdlr', 'oat', 'oilseed', 'orange', 'palladium', 'palm-oil', 'palmkernel', 'pet-chem', 'platinum', 'potato', 'propane', 'rand', 'rape-oil', 'rapeseed', 'reserves', 'retail', 'rice', 'rubber', 'rye', 'ship', 'silver', 'sorghum', 'soy-meal', 'soy-oil', 'soybean', 'strategic-metal', 'sugar', 'sun-meal', 'sun-oil', 'sunseed', 'tea', 'tin', 'trade', 'veg-oil', 'wheat', 'wpi', 'yen', 'zinc']\n"
     ]
    }
   ],
   "source": [
    "from nltk.corpus import reuters\n",
    "print(reuters.fileids()[:5])\n",
    "print(len(reuters.categories()))\n",
    "print(reuters.categories())"
   ]
  },
  {
   "cell_type": "code",
   "execution_count": 651,
   "metadata": {},
   "outputs": [
    {
     "name": "stdout",
     "output_type": "stream",
     "text": [
      "['barley', 'corn', 'grain', 'wheat']\n",
      "['barley', 'corn', 'grain', 'money-fx', 'wheat']\n"
     ]
    }
   ],
   "source": [
    "# get topics for given documents\n",
    "print(reuters.categories('training/9865'))  # topics in one document\n",
    "\n",
    "print(reuters.categories(['training/9865', 'training/9880'])) # topics in a list of documents"
   ]
  },
  {
   "cell_type": "code",
   "execution_count": 652,
   "metadata": {},
   "outputs": [
    {
     "name": "stdout",
     "output_type": "stream",
     "text": [
      "['test/15618', 'test/15649', 'test/15676', 'test/15728', 'test/15871']\n",
      "['test/14832', 'test/14858', 'test/15033', 'test/15043', 'test/15106']\n"
     ]
    }
   ],
   "source": [
    "# get documents contain the given topics\n",
    "print(reuters.fileids('barley')[:5]) # documents contain the topic \"barley\"\n",
    "\n",
    "print(reuters.fileids(['barley', 'corn'])[:5]) # documents contain a list of topics"
   ]
  },
  {
   "cell_type": "code",
   "execution_count": 653,
   "metadata": {},
   "outputs": [
    {
     "name": "stdout",
     "output_type": "stream",
     "text": [
      "['FRENCH', 'FREE', 'MARKET', 'CEREAL', 'EXPORT', 'BIDS', 'DETAILED', 'French', 'operators', 'have', 'requested', 'licences', 'to', 'export']\n",
      "['FRENCH', 'FREE', 'MARKET', 'CEREAL', 'EXPORT', ...]\n"
     ]
    }
   ],
   "source": [
    "# get words in the given file\n",
    "print(reuters.words('training/9865')[:14]) # upper case: title\n",
    "\n",
    "print(reuters.words(['training/9865', 'training/9880']))"
   ]
  },
  {
   "cell_type": "code",
   "execution_count": 654,
   "metadata": {},
   "outputs": [
    {
     "name": "stdout",
     "output_type": "stream",
     "text": [
      "['FRENCH', 'FREE', 'MARKET', 'CEREAL', 'EXPORT', ...]\n",
      "['THAI', 'TRADE', 'DEFICIT', 'WIDENS', 'IN', 'FIRST', ...]\n"
     ]
    }
   ],
   "source": [
    "# get words in texts that belong to the given topic\n",
    "print(reuters.words(categories='barley'))\n",
    "\n",
    "print(reuters.words(categories=['barley', 'corn']))"
   ]
  },
  {
   "cell_type": "markdown",
   "metadata": {},
   "source": [
    "## Inaugural Address Corpus\n",
    "- US Presidential Inaugural Addresses (1789-2017)\n",
    "- a collection of 55 texts, one for each presidential address\n",
    "- time dimension"
   ]
  },
  {
   "cell_type": "code",
   "execution_count": 655,
   "metadata": {},
   "outputs": [
    {
     "data": {
      "text/plain": [
       "['1789-Washington.txt',\n",
       " '1793-Washington.txt',\n",
       " '1797-Adams.txt',\n",
       " '1801-Jefferson.txt',\n",
       " '1805-Jefferson.txt',\n",
       " '1809-Madison.txt',\n",
       " '1813-Madison.txt',\n",
       " '1817-Monroe.txt',\n",
       " '1821-Monroe.txt',\n",
       " '1825-Adams.txt',\n",
       " '1829-Jackson.txt',\n",
       " '1833-Jackson.txt',\n",
       " '1837-VanBuren.txt',\n",
       " '1841-Harrison.txt',\n",
       " '1845-Polk.txt',\n",
       " '1849-Taylor.txt',\n",
       " '1853-Pierce.txt',\n",
       " '1857-Buchanan.txt',\n",
       " '1861-Lincoln.txt',\n",
       " '1865-Lincoln.txt',\n",
       " '1869-Grant.txt',\n",
       " '1873-Grant.txt',\n",
       " '1877-Hayes.txt',\n",
       " '1881-Garfield.txt',\n",
       " '1885-Cleveland.txt',\n",
       " '1889-Harrison.txt',\n",
       " '1893-Cleveland.txt',\n",
       " '1897-McKinley.txt',\n",
       " '1901-McKinley.txt',\n",
       " '1905-Roosevelt.txt',\n",
       " '1909-Taft.txt',\n",
       " '1913-Wilson.txt',\n",
       " '1917-Wilson.txt',\n",
       " '1921-Harding.txt',\n",
       " '1925-Coolidge.txt',\n",
       " '1929-Hoover.txt',\n",
       " '1933-Roosevelt.txt',\n",
       " '1937-Roosevelt.txt',\n",
       " '1941-Roosevelt.txt',\n",
       " '1945-Roosevelt.txt',\n",
       " '1949-Truman.txt',\n",
       " '1953-Eisenhower.txt',\n",
       " '1957-Eisenhower.txt',\n",
       " '1961-Kennedy.txt',\n",
       " '1965-Johnson.txt',\n",
       " '1969-Nixon.txt',\n",
       " '1973-Nixon.txt',\n",
       " '1977-Carter.txt',\n",
       " '1981-Reagan.txt',\n",
       " '1985-Reagan.txt',\n",
       " '1989-Bush.txt',\n",
       " '1993-Clinton.txt',\n",
       " '1997-Clinton.txt',\n",
       " '2001-Bush.txt',\n",
       " '2005-Bush.txt',\n",
       " '2009-Obama.txt',\n",
       " '2013-Obama.txt',\n",
       " '2017-Trump.txt']"
      ]
     },
     "execution_count": 655,
     "metadata": {},
     "output_type": "execute_result"
    }
   ],
   "source": [
    "from nltk.corpus import inaugural\n",
    "inaugural.fileids()"
   ]
  },
  {
   "cell_type": "code",
   "execution_count": 656,
   "metadata": {},
   "outputs": [
    {
     "data": {
      "text/plain": [
       "'Chief Justice Roberts, President Carter, President Clinton, President Bush, President Obama, fellow Americans, and people of the world: Thank you.\\n\\nWe, the citizens of America, are now joined in a great national effort to rebuild our country and restore its promise for all of our people. Together, we will determine the course of America and the world for many, many years to come. We will face challenges, we will confront hardships, but we will get the job done.\\n\\nEvery 4 years, we gather on these'"
      ]
     },
     "execution_count": 656,
     "metadata": {},
     "output_type": "execute_result"
    }
   ],
   "source": [
    "inaugural.raw('2017-Trump.txt')[:500]"
   ]
  },
  {
   "cell_type": "code",
   "execution_count": 159,
   "metadata": {},
   "outputs": [
    {
     "data": {
      "text/plain": [
       "['1789',\n",
       " '1793',\n",
       " '1797',\n",
       " '1801',\n",
       " '1805',\n",
       " '1809',\n",
       " '1813',\n",
       " '1817',\n",
       " '1821',\n",
       " '1825']"
      ]
     },
     "execution_count": 159,
     "metadata": {},
     "output_type": "execute_result"
    }
   ],
   "source": [
    "# get the year out of the filename\n",
    "[fileid[:4] for fileid in inaugural.fileids()][:10]"
   ]
  },
  {
   "cell_type": "markdown",
   "metadata": {},
   "source": [
    "- How the words \"America\" and \"citizen\" are used over time"
   ]
  },
  {
   "cell_type": "code",
   "execution_count": 658,
   "metadata": {},
   "outputs": [],
   "source": [
    "def word_timeline():\n",
    "    \"\"\"\n",
    "    timeline for words begin with \"america\" or \"citizen\"\n",
    "    \"\"\"\n",
    "    word_year = []\n",
    "    for fileid in inaugural.fileids(): # iterate over every file\n",
    "        for w in inaugural.words(fileid): # iterate over every word in the file\n",
    "            for target in ['america', 'citizen']: # try: immigration, economy\n",
    "                # convert words into lowercase, check if it starts with 'america' or 'citizen'\n",
    "                if w.lower().startswith(target):\n",
    "                    word_year.append((target,fileid[:4]))\n",
    "    \n",
    "    return word_year\n",
    "\n",
    "word_year = word_timeline()"
   ]
  },
  {
   "cell_type": "code",
   "execution_count": 659,
   "metadata": {},
   "outputs": [
    {
     "data": {
      "text/plain": [
       "[('citizen', '1789'),\n",
       " ('citizen', '1789'),\n",
       " ('citizen', '1789'),\n",
       " ('citizen', '1789'),\n",
       " ('citizen', '1789')]"
      ]
     },
     "execution_count": 659,
     "metadata": {},
     "output_type": "execute_result"
    }
   ],
   "source": [
    "word_year[:5]"
   ]
  },
  {
   "cell_type": "code",
   "execution_count": 661,
   "metadata": {},
   "outputs": [
    {
     "data": {
      "image/png": "[encoded data removed]",
      "text/plain": [
       "<Figure size 640x480 with 1 Axes>"
      ]
     },
     "metadata": {},
     "output_type": "display_data"
    }
   ],
   "source": [
    "# show the word usage over time\n",
    "cfd = nltk.ConditionalFreqDist(word_year)\n",
    "cfd.plot()"
   ]
  },
  {
   "cell_type": "markdown",
   "metadata": {},
   "source": [
    "Check the frequency of word usage through time:\n",
    "- https://books.google.com/ngrams"
   ]
  },
  {
   "cell_type": "markdown",
   "metadata": {},
   "source": [
    "## Corpora in Other Languages \n",
    "- character encodings"
   ]
  },
  {
   "cell_type": "code",
   "execution_count": 664,
   "metadata": {},
   "outputs": [
    {
     "data": {
      "text/plain": [
       "['पूर्ण', 'प्रतिबंध', 'हटाओ', ':', 'इराक', 'संयुक्त', ...]"
      ]
     },
     "execution_count": 664,
     "metadata": {},
     "output_type": "execute_result"
    }
   ],
   "source": [
    "nltk.corpus.indian.words('hindi.pos')"
   ]
  },
  {
   "cell_type": "code",
   "execution_count": 665,
   "metadata": {},
   "outputs": [
    {
     "data": {
      "text/plain": [
       "['Um', 'revivalismo', 'refrescante', 'O', '7_e_Meio', ...]"
      ]
     },
     "execution_count": 665,
     "metadata": {},
     "output_type": "execute_result"
    }
   ],
   "source": [
    "nltk.corpus.floresta.words() # Portuguese"
   ]
  },
  {
   "cell_type": "markdown",
   "metadata": {},
   "source": [
    "### Universal Declaration of Human Rights\n",
    "- udhr corpus\n",
    "- over 300 languages"
   ]
  },
  {
   "cell_type": "code",
   "execution_count": 666,
   "metadata": {},
   "outputs": [
    {
     "data": {
      "text/plain": [
       "['Abkhaz-Cyrillic+Abkh',\n",
       " 'Abkhaz-UTF8',\n",
       " 'Achehnese-Latin1',\n",
       " 'Achuar-Shiwiar-Latin1',\n",
       " 'Adja-UTF8',\n",
       " 'Afaan_Oromo_Oromiffa-Latin1',\n",
       " 'Afrikaans-Latin1',\n",
       " 'Aguaruna-Latin1',\n",
       " 'Akuapem_Twi-UTF8',\n",
       " 'Albanian_Shqip-Latin1']"
      ]
     },
     "execution_count": 666,
     "metadata": {},
     "output_type": "execute_result"
    }
   ],
   "source": [
    "# character encoding (e.g., UTF8 or Latin1)\n",
    "nltk.corpus.udhr.fileids()[:10]"
   ]
  },
  {
   "cell_type": "markdown",
   "metadata": {},
   "source": [
    "- Examine the differences in word lengths for a selection of languages"
   ]
  },
  {
   "cell_type": "code",
   "execution_count": 667,
   "metadata": {},
   "outputs": [
    {
     "name": "stdout",
     "output_type": "stream",
     "text": [
      "                           0    1    2    3    4    5    6    7    8    9 \n",
      "         English-Latin1    0  185  525  883  997 1166 1283 1440 1558 1638 \n",
      "             Hindi-UTF8    0 1993 2463 2519 2524 2524 2524 2524 2524 2524 \n",
      "Chinese_Mandarin-GB2312    0 2875 2879 2880 2881 2881 2882 2882 2883 2883 \n"
     ]
    }
   ],
   "source": [
    "from nltk.corpus import udhr\n",
    "\n",
    "languages = ['Chickasaw-Latin1', 'English-Latin1', 'German_Deutsch-Latin1','Hindi-UTF8', 'Chinese_Mandarin-GB2312']\n",
    "\n",
    "cfd = nltk.ConditionalFreqDist(\n",
    "                                (lang, len(word)) \n",
    "                                for lang in languages \n",
    "                                    for word in udhr.words(lang))\n",
    "\n",
    "\n",
    "cfd.tabulate(conditions=['English-Latin1', 'Hindi-UTF8','Chinese_Mandarin-GB2312'],samples=range(10), cumulative=True)"
   ]
  },
  {
   "cell_type": "code",
   "execution_count": 668,
   "metadata": {},
   "outputs": [
    {
     "data": {
      "image/png": "[encoded data removed]",
      "text/plain": [
       "<Figure size 640x480 with 1 Axes>"
      ]
     },
     "metadata": {},
     "output_type": "display_data"
    }
   ],
   "source": [
    "cfd.plot(cumulative=True)\n",
    "\n",
    "# x-axis: number of characters in a word\n",
    "# y-axis: accumulative word frequency\n",
    "# udhr corpus contains 2882 Chinese words in total, most words have 1 letter;\n",
    "# udhr corpus contains about 1800 English words, about 1500 words have less than 7 letters"
   ]
  },
  {
   "cell_type": "code",
   "execution_count": 215,
   "metadata": {},
   "outputs": [
    {
     "data": {
      "text/plain": [
       "(2884, ['世界人权宣言', '联合国大会一九四八年十二月十日第217A', '(', 'III', ')', ...])"
      ]
     },
     "execution_count": 215,
     "metadata": {},
     "output_type": "execute_result"
    }
   ],
   "source": [
    "len(udhr.words('Chinese_Mandarin-GB2312')), udhr.words('Chinese_Mandarin-GB2312')"
   ]
  }
 ],
 "metadata": {
  "kernelspec": {
   "display_name": "Python 3",
   "language": "python",
   "name": "python3"
  },
  "language_info": {
   "codemirror_mode": {
    "name": "ipython",
    "version": 3
   },
   "file_extension": ".py",
   "mimetype": "text/x-python",
   "name": "python",
   "nbconvert_exporter": "python",
   "pygments_lexer": "ipython3",
   "version": "3.7.0"
  },
  "toc": {
   "base_numbering": 1,
   "nav_menu": {},
   "number_sections": true,
   "sideBar": true,
   "skip_h1_title": false,
   "title_cell": "Table of Contents",
   "title_sidebar": "Contents",
   "toc_cell": false,
   "toc_position": {
    "height": "calc(100% - 180px)",
    "left": "10px",
    "top": "150px",
    "width": "284px"
   },
   "toc_section_display": true,
   "toc_window_display": true
  }
 },
 "nbformat": 4,
 "nbformat_minor": 2
}
