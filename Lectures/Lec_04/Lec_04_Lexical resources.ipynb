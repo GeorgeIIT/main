{
 "cells": [
  {
   "cell_type": "markdown",
   "metadata": {},
   "source": [
    "# Lexical Resources\n",
    "- A lexicon is a collection of words and/or phrases along with associated information (e.g., POS and sense definitions)\n",
    "- http://www.nltk.org/howto/corpus.html#word-lists-and-lexicons"
   ]
  },
  {
   "cell_type": "markdown",
   "metadata": {},
   "source": [
    "<img src=\"./outline.png\" width=\"300\" align=\"left\">"
   ]
  },
  {
   "cell_type": "code",
   "execution_count": 83,
   "metadata": {},
   "outputs": [],
   "source": [
    "import nltk\n",
    "nltk.data.path.append(\"/data/3/zwang/nltk_data\") # setting environment variable to your path\n",
    "\n",
    "# settings to show the plot in file\n",
    "from matplotlib import pyplot as plt\n",
    "plt.style.use('default')"
   ]
  },
  {
   "cell_type": "markdown",
   "metadata": {},
   "source": [
    "# WordNet\n",
    "In the following content, we'll briefly go over the wordnet resource.\n",
    "\n",
    "- Lexical database for English with 155,287 words, created by Princeton University\n",
    "    - official site: https://wordnet.princeton.edu\n",
    "    - Wikipedia: https://en.wikipedia.org/wiki/WordNet\n",
    "    - visualization: https://lexical-graph.herokuapp.com/car\n",
    "\n",
    "- English words are grouped into \"synsets\" (sets of synonyms)\n",
    "    - groups words based on meanings\n",
    "    - synonyms: words denote the same concept and are interchangeable\n",
    "        - e.g., car, bus, automobile\n",
    "    - 117,659 synonym sets\n",
    "    - each expressing a distinct concept\n",
    "    - Synsets are interlinked by means of semantic and lexical relations\n",
    "    - Rich structure makes it a useful tool for computational linguistics and NLP\n",
    " \n",
    "\n",
    "- provides definitions, usage examples, and relations among synonym sets"
   ]
  },
  {
   "cell_type": "markdown",
   "metadata": {},
   "source": [
    "## Senses and lemma\n",
    "One primary use for WordNet is to determine the similarity between words' meanings.\n",
    "\n",
    "- E.g.: \n",
    "    - Benz is credited with the invention of the car. \n",
    "    - Benz is credited with the invention of the automobile.\n",
    "    - Two sentences are the same except for the last word.\n",
    "    - \"car\" and \"automobile\" are synonyms, so the meaning of the two sentences are the same."
   ]
  },
  {
   "cell_type": "markdown",
   "metadata": {},
   "source": [
    "<img src=\"./structure.png\" width=\"400\" align=\"center\">\n",
    "<img src=\"./car_structure_2.png\" width=\"600\" align=\"center\">"
   ]
  },
  {
   "cell_type": "code",
   "execution_count": 1,
   "metadata": {},
   "outputs": [],
   "source": [
    "# NLTK provides direct access to this resource, which is convenient. \n",
    "from nltk.corpus import wordnet as wn"
   ]
  },
  {
   "cell_type": "markdown",
   "metadata": {},
   "source": [
    "- An example of using Wordnet to determine the synsets (synonym sets) of \"car\"\n",
    "    - online: http://wordnetweb.princeton.edu/perl/webwn"
   ]
  },
  {
   "cell_type": "code",
   "execution_count": 2,
   "metadata": {},
   "outputs": [
    {
     "data": {
      "text/plain": [
       "[Synset('car.n.01'),\n",
       " Synset('car.n.02'),\n",
       " Synset('car.n.03'),\n",
       " Synset('car.n.04'),\n",
       " Synset('cable_car.n.01')]"
      ]
     },
     "execution_count": 2,
     "metadata": {},
     "output_type": "execute_result"
    }
   ],
   "source": [
    "wn.synsets('car')\n",
    "# the entry 'car.n.01' is a synset (synonym set) for the word 'car'\n",
    "# a 3-part form: word.pos.number, the first sense / meaning of the word car as a noun"
   ]
  },
  {
   "cell_type": "markdown",
   "metadata": {},
   "source": [
    "- For each synset, we can print out the **definition**\n",
    "- as well as an example of **usage** in a sentence for the given word"
   ]
  },
  {
   "cell_type": "code",
   "execution_count": 3,
   "metadata": {},
   "outputs": [
    {
     "name": "stdout",
     "output_type": "stream",
     "text": [
      "a motor vehicle with four wheels; usually propelled by an internal combustion engine\n"
     ]
    }
   ],
   "source": [
    "# Definition of a synset\n",
    "print(wn.synset('car.n.01').definition()) # try car.n.02, car.n.03"
   ]
  },
  {
   "cell_type": "code",
   "execution_count": 4,
   "metadata": {},
   "outputs": [
    {
     "name": "stdout",
     "output_type": "stream",
     "text": [
      "['he needs a car to get to work']\n"
     ]
    }
   ],
   "source": [
    "# Example usage of a synset:\n",
    "print(wn.synset('car.n.01').examples()) # try car.n.02, car.n.03\n",
    "# As we can see, not all synsets have valid examples as we obtain the empty list"
   ]
  },
  {
   "cell_type": "markdown",
   "metadata": {},
   "source": [
    "- The list of lemmas for each synset"
   ]
  },
  {
   "cell_type": "code",
   "execution_count": 81,
   "metadata": {},
   "outputs": [
    {
     "name": "stdout",
     "output_type": "stream",
     "text": [
      "Lemma('cable_car.n.01.cable_car')\n",
      "Lemma('cable_car.n.01.car')\n"
     ]
    }
   ],
   "source": [
    "print(wn.synset('cable_car.n.01').lemmas()[0])\n",
    "print(wn.synset('cable_car.n.01').lemmas()[1])\n",
    "# eliminate ambiguity: car.n.01.automobile, car.n.01.motorcar"
   ]
  },
  {
   "cell_type": "markdown",
   "metadata": {},
   "source": [
    "- Each synonym in the above set is referred to as a **lemma**\n",
    "- **lemma**: specific sense of a specific word\n",
    "    - pairs a synset with a word (\"car.n.01\",\"car\")\n",
    "    "
   ]
  },
  {
   "cell_type": "code",
   "execution_count": 6,
   "metadata": {},
   "outputs": [
    {
     "data": {
      "text/plain": [
       "['car', 'auto', 'automobile', 'machine', 'motorcar']"
      ]
     },
     "execution_count": 6,
     "metadata": {},
     "output_type": "execute_result"
    }
   ],
   "source": [
    "# show lemma names (synonyms for the synset )\n",
    "wn.synset('car.n.01').lemma_names()\n",
    "# According to WordNet, the word \"auto\", \"automobile\", \"machine\", \"motorcar\" are synonyms of the word \"car\""
   ]
  },
  {
   "cell_type": "code",
   "execution_count": 7,
   "metadata": {},
   "outputs": [
    {
     "name": "stdout",
     "output_type": "stream",
     "text": [
      "Synset('car.n.01')\n"
     ]
    }
   ],
   "source": [
    "# For a given lemma, we can also get the synsets corresponding to that lemma\n",
    "print(wn.lemma('car.n.01.machine').synset())"
   ]
  },
  {
   "cell_type": "markdown",
   "metadata": {},
   "source": [
    "## Synonyms"
   ]
  },
  {
   "cell_type": "code",
   "execution_count": 11,
   "metadata": {},
   "outputs": [
    {
     "name": "stdout",
     "output_type": "stream",
     "text": [
      "Synset('car.n.01') ['car', 'auto', 'automobile', 'machine', 'motorcar']\n",
      "Synset('car.n.02') ['car', 'railcar', 'railway_car', 'railroad_car']\n",
      "Synset('car.n.03') ['car', 'gondola']\n",
      "Synset('car.n.04') ['car', 'elevator_car']\n",
      "Synset('cable_car.n.01') ['cable_car', 'car']\n",
      "[]\n"
     ]
    }
   ],
   "source": [
    "word_synonyms = []\n",
    "for syn in wn.synsets(\"car\"): # iterate over the synonym sets of \"car\" (try \"good\")\n",
    "    print(syn, syn.lemma_names())\n",
    "#     for lm in syn.lemmas(): \n",
    "#         word_synonyms.append(lm.name()) # get the lemma name for each synonym\n",
    "\n",
    "# print(word_synonyms)"
   ]
  },
  {
   "cell_type": "code",
   "execution_count": 25,
   "metadata": {},
   "outputs": [
    {
     "data": {
      "text/plain": [
       "[Lemma('evil.n.03.evil')]"
      ]
     },
     "execution_count": 25,
     "metadata": {},
     "output_type": "execute_result"
    }
   ],
   "source": [
    "wn.synsets(\"good\")[1].lemmas()[0].antonyms()"
   ]
  },
  {
   "cell_type": "markdown",
   "metadata": {},
   "source": [
    "## Antonyms \n",
    "    - relations defined over lemmas"
   ]
  },
  {
   "cell_type": "code",
   "execution_count": 45,
   "metadata": {},
   "outputs": [
    {
     "name": "stdout",
     "output_type": "stream",
     "text": [
      "Synset('good.n.02') --> Lemma('good.n.02.good') --> [Lemma('evil.n.03.evil')]\n",
      "Synset('good.n.02') --> Lemma('good.n.02.goodness') --> [Lemma('evil.n.03.evilness')]\n",
      "Synset('good.n.03') --> Lemma('good.n.03.good') --> [Lemma('bad.n.01.bad')]\n",
      "Synset('good.n.03') --> Lemma('good.n.03.goodness') --> [Lemma('bad.n.01.badness')]\n",
      "Synset('good.a.01') --> Lemma('good.a.01.good') --> [Lemma('bad.a.01.bad')]\n",
      "Synset('good.a.03') --> Lemma('good.a.03.good') --> [Lemma('evil.a.01.evil')]\n",
      "Synset('well.r.01') --> Lemma('well.r.01.well') --> [Lemma('ill.r.01.ill')]\n",
      "['evil', 'evilness', 'bad', 'badness', 'bad', 'evil', 'ill']\n"
     ]
    }
   ],
   "source": [
    "word_antonyms = []\n",
    "\n",
    "for syn in wn.synsets(\"good\"): # iterate over the synonym sets of \"good\"\n",
    "    for lm in syn.lemmas(): # iterate over each lemma of a given synset\n",
    "        if lm.antonyms(): # find antonyms for each lemma\n",
    "            print(syn,'-->', lm, '-->',lm.antonyms())\n",
    "            word_antonyms.append(lm.antonyms()[0].name())\n",
    "\n",
    "print(word_antonyms)"
   ]
  },
  {
   "cell_type": "markdown",
   "metadata": {},
   "source": [
    "## Hypernym\n",
    "- \"a word with a **broad / general** meaning that more specific words fall under; a superordinate\" \n",
    "- e.g.:\n",
    "    - color is a hypernym of green\n",
    "    - car is a hypernym of bus\n",
    "    - cat is a hypernym of house_cat"
   ]
  },
  {
   "cell_type": "code",
   "execution_count": 37,
   "metadata": {},
   "outputs": [
    {
     "name": "stdout",
     "output_type": "stream",
     "text": [
      "[Synset('cat.n.01'), Synset('domestic_animal.n.01')]\n"
     ]
    }
   ],
   "source": [
    "print(wn.synset('house_cat.n.01').hypernyms())"
   ]
  },
  {
   "cell_type": "code",
   "execution_count": 38,
   "metadata": {},
   "outputs": [
    {
     "name": "stdout",
     "output_type": "stream",
     "text": [
      "[Synset('car.n.01'), Synset('dysphemism.n.01')]\n"
     ]
    }
   ],
   "source": [
    "print(wn.synset('bus.n.04').hypernyms())"
   ]
  },
  {
   "cell_type": "code",
   "execution_count": 52,
   "metadata": {},
   "outputs": [
    {
     "data": {
      "text/plain": [
       "[Synset('entity.n.01')]"
      ]
     },
     "execution_count": 52,
     "metadata": {},
     "output_type": "execute_result"
    }
   ],
   "source": [
    "# root hypernyms: the most general hypernyms\n",
    "car.root_hypernyms()"
   ]
  },
  {
   "cell_type": "markdown",
   "metadata": {},
   "source": [
    "## Hyponym\n",
    "- \"a word of more **specific** meaning\"\n",
    "- e.g.: \n",
    "    - bus is a hyponym of car\n",
    "    - cat is a hyponym of animal\n",
    "    - A belongs to B, A is a hyponym of B"
   ]
  },
  {
   "cell_type": "code",
   "execution_count": 40,
   "metadata": {},
   "outputs": [
    {
     "name": "stdout",
     "output_type": "stream",
     "text": [
      "a motor vehicle with four wheels; usually propelled by an internal combustion engine\n"
     ]
    }
   ],
   "source": [
    "# There are a few different synsets for this word\n",
    "# Let us take a look at what the definition of the synset 'cat.n.01' is:\n",
    "print(wn.synset('car.n.01').definition())"
   ]
  },
  {
   "cell_type": "code",
   "execution_count": 41,
   "metadata": {
    "collapsed": true
   },
   "outputs": [
    {
     "data": {
      "text/plain": [
       "[Synset('ambulance.n.01'),\n",
       " Synset('beach_wagon.n.01'),\n",
       " Synset('bus.n.04'),\n",
       " Synset('cab.n.03'),\n",
       " Synset('compact.n.03'),\n",
       " Synset('convertible.n.01'),\n",
       " Synset('coupe.n.01'),\n",
       " Synset('cruiser.n.01'),\n",
       " Synset('electric.n.01'),\n",
       " Synset('gas_guzzler.n.01'),\n",
       " Synset('hardtop.n.01'),\n",
       " Synset('hatchback.n.01'),\n",
       " Synset('horseless_carriage.n.01'),\n",
       " Synset('hot_rod.n.01'),\n",
       " Synset('jeep.n.01'),\n",
       " Synset('limousine.n.01'),\n",
       " Synset('loaner.n.02'),\n",
       " Synset('minicar.n.01'),\n",
       " Synset('minivan.n.01'),\n",
       " Synset('model_t.n.01'),\n",
       " Synset('pace_car.n.01'),\n",
       " Synset('racer.n.02'),\n",
       " Synset('roadster.n.01'),\n",
       " Synset('sedan.n.01'),\n",
       " Synset('sport_utility.n.01'),\n",
       " Synset('sports_car.n.01'),\n",
       " Synset('stanley_steamer.n.01'),\n",
       " Synset('stock_car.n.01'),\n",
       " Synset('subcompact.n.01'),\n",
       " Synset('touring_car.n.01'),\n",
       " Synset('used-car.n.01')]"
      ]
     },
     "execution_count": 41,
     "metadata": {},
     "output_type": "execute_result"
    }
   ],
   "source": [
    "# It looks like that definition refers to ...\n",
    "# Let us determine the hyponyms of the term \"car\", and store that into a variable `types_of_cars`\n",
    "car = wn.synset('car.n.01')\n",
    "types_of_cars = car.hyponyms() # specific categories of cars\n",
    "types_of_cars"
   ]
  },
  {
   "cell_type": "code",
   "execution_count": 44,
   "metadata": {
    "collapsed": true
   },
   "outputs": [
    {
     "name": "stdout",
     "output_type": "stream",
     "text": [
      "Synset('ambulance.n.01') --> ['ambulance']\n",
      "Synset('beach_wagon.n.01') --> ['beach_wagon', 'station_wagon', 'wagon', 'estate_car', 'beach_waggon', 'station_waggon', 'waggon']\n",
      "Synset('bus.n.04') --> ['bus', 'jalopy', 'heap']\n",
      "Synset('cab.n.03') --> ['cab', 'hack', 'taxi', 'taxicab']\n",
      "Synset('compact.n.03') --> ['compact', 'compact_car']\n",
      "Synset('convertible.n.01') --> ['convertible']\n",
      "Synset('coupe.n.01') --> ['coupe']\n",
      "Synset('cruiser.n.01') --> ['cruiser', 'police_cruiser', 'patrol_car', 'police_car', 'prowl_car', 'squad_car']\n",
      "Synset('electric.n.01') --> ['electric', 'electric_automobile', 'electric_car']\n",
      "Synset('gas_guzzler.n.01') --> ['gas_guzzler']\n",
      "Synset('hardtop.n.01') --> ['hardtop']\n",
      "Synset('hatchback.n.01') --> ['hatchback']\n",
      "Synset('horseless_carriage.n.01') --> ['horseless_carriage']\n",
      "Synset('hot_rod.n.01') --> ['hot_rod', 'hot-rod']\n",
      "Synset('jeep.n.01') --> ['jeep', 'landrover']\n",
      "Synset('limousine.n.01') --> ['limousine', 'limo']\n",
      "Synset('loaner.n.02') --> ['loaner']\n",
      "Synset('minicar.n.01') --> ['minicar']\n",
      "Synset('minivan.n.01') --> ['minivan']\n",
      "Synset('model_t.n.01') --> ['Model_T']\n",
      "Synset('pace_car.n.01') --> ['pace_car']\n",
      "Synset('racer.n.02') --> ['racer', 'race_car', 'racing_car']\n",
      "Synset('roadster.n.01') --> ['roadster', 'runabout', 'two-seater']\n",
      "Synset('sedan.n.01') --> ['sedan', 'saloon']\n",
      "Synset('sport_utility.n.01') --> ['sport_utility', 'sport_utility_vehicle', 'S.U.V.', 'SUV']\n",
      "Synset('sports_car.n.01') --> ['sports_car', 'sport_car']\n",
      "Synset('stanley_steamer.n.01') --> ['Stanley_Steamer']\n",
      "Synset('stock_car.n.01') --> ['stock_car']\n",
      "Synset('subcompact.n.01') --> ['subcompact', 'subcompact_car']\n",
      "Synset('touring_car.n.01') --> ['touring_car', 'phaeton', 'tourer']\n",
      "Synset('used-car.n.01') --> ['used-car', 'secondhand_car']\n"
     ]
    }
   ],
   "source": [
    "# Now, let us loop through the hyponyms and see the lemmas for each synset\n",
    "for synset in types_of_cars:\n",
    "    print(synset,'-->', synset.lemma_names())\n",
    "#     for lemma in synset.lemmas():\n",
    "#         print(lemma.name())\n",
    "        \n",
    "# Note that terms like \"bus\",\"taxi\", \"sedan\", \"SUV\" are more specific categories of \"car\", they are hyponyms of \"car\""
   ]
  },
  {
   "cell_type": "markdown",
   "metadata": {},
   "source": [
    "## Hypernym VS hyponym\n",
    "- A hypernym goes upward toward more generality;\n",
    "- A hyponym drills down to more specificity; \n",
    "    \n",
    "- E.g.:\n",
    "    - color is a hypernym of green; green is a hyponym of color\n",
    "    - car is a hypernym of bus; bus is a hyponym of car\n",
    "    - cat is a hypernym of house_cat; house_cat is a hyponym of cat\n",
    "    "
   ]
  },
  {
   "cell_type": "markdown",
   "metadata": {},
   "source": [
    "<img src=\"./hyper_hypo.png\" width=\"300\" align=\"center\">"
   ]
  },
  {
   "cell_type": "markdown",
   "metadata": {},
   "source": [
    "## Semantic similarity\n",
    "**How related / similar are two words?**\n",
    " \n",
    "- assign a score based on the distance in terms of hypernyms and hyponyms\n",
    "- how many levels up or down is a given word from the other we are attempting to compare it to.\n",
    "\n",
    "- A few ways to calculate the similarities between words:\n",
    "    - **path_similarity**: a score denoting how similar two words are in terms of the distance between hypernyms/hyponyms\n",
    "    - a score between 0 and 1 \n",
    "        - 0: no similarity between the hypernym/hyponym tree\n",
    "        - 1: the node which houses both of the words in terms of hypernyms/hyponyms is identical"
   ]
  },
  {
   "cell_type": "code",
   "execution_count": 46,
   "metadata": {},
   "outputs": [],
   "source": [
    "# calculate the similarity between \"car\" and \"automobile\"\n",
    "\n",
    "# First, define the synsets for these terms:\n",
    "car = wn.synset('car.n.01')\n",
    "automobile = wn.synset('automobile.n.01')\n",
    "cat = wn.synset('cat.n.01')"
   ]
  },
  {
   "cell_type": "code",
   "execution_count": 47,
   "metadata": {},
   "outputs": [
    {
     "name": "stdout",
     "output_type": "stream",
     "text": [
      "1.0\n"
     ]
    }
   ],
   "source": [
    "# call the path_similarity function\n",
    "print(car.path_similarity(automobile))\n",
    "\n",
    "# We see that \"car\" and \"automobile\" have the highest similarity score of 1.0.\n",
    "# This makes sense, since if we print out the synsets of \"car\", we see that one of the synonyms is indeed \"automobile\".\n",
    "# print(car.lemma_names())"
   ]
  },
  {
   "cell_type": "code",
   "execution_count": 48,
   "metadata": {},
   "outputs": [
    {
     "name": "stdout",
     "output_type": "stream",
     "text": [
      "0.125\n"
     ]
    }
   ],
   "source": [
    "# Let us now take a look at the term \"car\" and \"boat\":\n",
    "boat = wn.synset('boat.n.01')\n",
    "print(car.path_similarity(boat))\n",
    "\n",
    "# a lower score"
   ]
  },
  {
   "cell_type": "markdown",
   "metadata": {},
   "source": [
    "- the traversal (with respect to hypernyms/hyponyms) from car to boat is less similar than from car to automobile"
   ]
  },
  {
   "cell_type": "code",
   "execution_count": 49,
   "metadata": {},
   "outputs": [
    {
     "data": {
      "text/plain": [
       "0.05555555555555555"
      ]
     },
     "execution_count": 49,
     "metadata": {},
     "output_type": "execute_result"
    }
   ],
   "source": [
    "car.path_similarity(cat)"
   ]
  },
  {
   "cell_type": "code",
   "execution_count": 71,
   "metadata": {},
   "outputs": [
    {
     "name": "stdout",
     "output_type": "stream",
     "text": [
      "[Synset('entity.n.01'), Synset('physical_entity.n.01'), Synset('object.n.01'), Synset('whole.n.02'), Synset('artifact.n.01'), Synset('instrumentality.n.03'), Synset('container.n.01'), Synset('wheeled_vehicle.n.01'), Synset('self-propelled_vehicle.n.01'), Synset('motor_vehicle.n.01'), Synset('car.n.01')] \n",
      "\n",
      "[Synset('entity.n.01'), Synset('physical_entity.n.01'), Synset('object.n.01'), Synset('whole.n.02'), Synset('artifact.n.01'), Synset('instrumentality.n.03'), Synset('conveyance.n.03'), Synset('vehicle.n.01'), Synset('wheeled_vehicle.n.01'), Synset('self-propelled_vehicle.n.01'), Synset('motor_vehicle.n.01'), Synset('car.n.01')] \n",
      "\n"
     ]
    }
   ],
   "source": [
    "for path in wn.synset('car.n.01').hypernym_paths():\n",
    "    print(path,'\\n')"
   ]
  },
  {
   "cell_type": "code",
   "execution_count": 72,
   "metadata": {},
   "outputs": [
    {
     "name": "stdout",
     "output_type": "stream",
     "text": [
      "[Synset('entity.n.01'), Synset('physical_entity.n.01'), Synset('object.n.01'), Synset('whole.n.02'), Synset('artifact.n.01'), Synset('instrumentality.n.03'), Synset('container.n.01'), Synset('wheeled_vehicle.n.01'), Synset('self-propelled_vehicle.n.01'), Synset('motor_vehicle.n.01'), Synset('car.n.01')] \n",
      "\n",
      "[Synset('entity.n.01'), Synset('physical_entity.n.01'), Synset('object.n.01'), Synset('whole.n.02'), Synset('artifact.n.01'), Synset('instrumentality.n.03'), Synset('conveyance.n.03'), Synset('vehicle.n.01'), Synset('wheeled_vehicle.n.01'), Synset('self-propelled_vehicle.n.01'), Synset('motor_vehicle.n.01'), Synset('car.n.01')] \n",
      "\n"
     ]
    }
   ],
   "source": [
    "for path in wn.synset('automobile.n.01').hypernym_paths():\n",
    "    print(path,'\\n')"
   ]
  },
  {
   "cell_type": "code",
   "execution_count": 74,
   "metadata": {},
   "outputs": [
    {
     "name": "stdout",
     "output_type": "stream",
     "text": [
      "[Synset('entity.n.01'), Synset('physical_entity.n.01'), Synset('object.n.01'), Synset('whole.n.02'), Synset('living_thing.n.01'), Synset('organism.n.01'), Synset('animal.n.01'), Synset('chordate.n.01'), Synset('vertebrate.n.01'), Synset('mammal.n.01'), Synset('placental.n.01'), Synset('carnivore.n.01'), Synset('feline.n.01'), Synset('cat.n.01')] \n",
      "\n"
     ]
    }
   ],
   "source": [
    "for path in wn.synset('cat.n.01').hypernym_paths():\n",
    "    print(path,'\\n')"
   ]
  },
  {
   "cell_type": "markdown",
   "metadata": {},
   "source": [
    "- More ways to define distances between words:\n",
    "    - Wu-Palmer Similarity\n",
    "    - Resnik Similarity\n",
    "    - Jiang-Conrath Similarity\n",
    "    - Lin Similarity\n",
    "\n",
    "- based on different metrics of what one uses to define similarity between two different words. "
   ]
  },
  {
   "cell_type": "code",
   "execution_count": 50,
   "metadata": {},
   "outputs": [
    {
     "name": "stdout",
     "output_type": "stream",
     "text": [
      "1.0\n",
      "0.6956521739130435\n",
      "0.32\n"
     ]
    }
   ],
   "source": [
    "# Going over each of these methods in detail would go beyond the scope of this tutorial, \n",
    "# but let us look at the Wu-Palmber similarity metric.\n",
    "\n",
    "\n",
    "# The numerics obtained from this method may appear to be more intuitively pleasing than the `path_similarity` method.\n",
    "\n",
    "# Use it in the same way as `path_similarity` function\n",
    "print(car.wup_similarity(automobile))\n",
    "# We get the highest similarity score of 1.0\n",
    "\n",
    "# Let us now try this metric with \"car\" and \"boat\":\n",
    "print(car.wup_similarity(boat))\n",
    "# A bit higher than using \"path_similarity\", as boat and car are both modes of transport, but they are still different.\n",
    "\n",
    "\n",
    "# Check the similarity between car and cat\n",
    "cat = wn.synset('cat.n.01')\n",
    "print(car.wup_similarity(cat))\n",
    "# Much lower score, as \"car\" and \"cat\" are seemingly unrelated"
   ]
  },
  {
   "cell_type": "markdown",
   "metadata": {},
   "source": [
    "# Wordlist corpora  \n",
    "- http://www.nltk.org/nltk_data/"
   ]
  },
  {
   "cell_type": "code",
   "execution_count": 84,
   "metadata": {},
   "outputs": [],
   "source": [
    "def unusual_words(text):\n",
    "    \"\"\"\n",
    "    unusual words: words appear in the given text but not in english vocabulary\n",
    "    \"\"\"\n",
    "    # build vocabulary for text\n",
    "    # w.isalpha(): returns \"True\" if all characters in the string are alphabets, Otherwise, \"False\"\n",
    "    text_vocab = set(w.lower() for w in text if w.isalpha()) \n",
    "\n",
    "    # vocabulary of english words\n",
    "    english_vocab = set(w.lower() for w in nltk.corpus.words.words())\n",
    "    \n",
    "    # words appear in text but not in english vocabulary as unusual words\n",
    "    unusual = text_vocab - english_vocab\n",
    "    \n",
    "    return sorted(unusual)"
   ]
  },
  {
   "cell_type": "code",
   "execution_count": null,
   "metadata": {},
   "outputs": [],
   "source": [
    "# unusual_words(nltk.corpus.gutenberg.words('austen-sense.txt'))[:10]"
   ]
  },
  {
   "cell_type": "code",
   "execution_count": 85,
   "metadata": {},
   "outputs": [
    {
     "data": {
      "text/plain": [
       "['aaaaaaaaaaaaaaaaa',\n",
       " 'aaahhhh',\n",
       " 'abortions',\n",
       " 'abou',\n",
       " 'abourted',\n",
       " 'abs',\n",
       " 'ack',\n",
       " 'acros',\n",
       " 'actualy',\n",
       " 'adams']"
      ]
     },
     "execution_count": 85,
     "metadata": {},
     "output_type": "execute_result"
    }
   ],
   "source": [
    "unusual_words(nltk.corpus.nps_chat.words())[:10]"
   ]
  },
  {
   "cell_type": "markdown",
   "metadata": {},
   "source": [
    "- stopwords\n",
    "    - high-frequency words (e.g., \"the\", \"to\", \"also\") \n",
    "    - little lexical content\n",
    "    - filter out before further processing"
   ]
  },
  {
   "cell_type": "code",
   "execution_count": 86,
   "metadata": {},
   "outputs": [
    {
     "name": "stdout",
     "output_type": "stream",
     "text": [
      "['i', 'me', 'my', 'myself', 'we', 'our', 'ours', 'ourselves', 'you', 'your', 'yours', 'yourself', 'yourselves', 'he', 'him', 'his', 'himself', 'she', 'her', 'hers', 'herself', 'it', 'its', 'itself', 'they', 'them', 'their', 'theirs', 'themselves', 'what', 'which', 'who', 'whom', 'this', 'that', 'these', 'those', 'am', 'is', 'are', 'was', 'were', 'be', 'been', 'being', 'have', 'has', 'had', 'having', 'do', 'does', 'did', 'doing', 'a', 'an', 'the', 'and', 'but', 'if', 'or', 'because', 'as', 'until', 'while', 'of', 'at', 'by', 'for', 'with', 'about', 'against', 'between', 'into', 'through', 'during', 'before', 'after', 'above', 'below', 'to', 'from', 'up', 'down', 'in', 'out', 'on', 'off', 'over', 'under', 'again', 'further', 'then', 'once', 'here', 'there', 'when', 'where', 'why', 'how', 'all', 'any', 'both', 'each', 'few', 'more', 'most', 'other', 'some', 'such', 'no', 'nor', 'not', 'only', 'own', 'same', 'so', 'than', 'too', 'very', 's', 't', 'can', 'will', 'just', 'don', 'should', 'now', 'd', 'll', 'm', 'o', 're', 've', 'y', 'ain', 'aren', 'couldn', 'didn', 'doesn', 'hadn', 'hasn', 'haven', 'isn', 'ma', 'mightn', 'mustn', 'needn', 'shan', 'shouldn', 'wasn', 'weren', 'won', 'wouldn']\n"
     ]
    }
   ],
   "source": [
    "from nltk.corpus import stopwords\n",
    "print(stopwords.words('english'))"
   ]
  },
  {
   "cell_type": "code",
   "execution_count": 87,
   "metadata": {},
   "outputs": [],
   "source": [
    "def nonstopwords_fraction(text):\n",
    "    \"\"\"\n",
    "    compute what fraction of words in a text are not stopwords\n",
    "    \"\"\" \n",
    "    stopwords = nltk.corpus.stopwords.words('english')\n",
    "    nonstopwords = [w for w in text if w.lower() not in stopwords]\n",
    "    \n",
    "    return len(nonstopwords) / len(text)"
   ]
  },
  {
   "cell_type": "code",
   "execution_count": 88,
   "metadata": {},
   "outputs": [
    {
     "data": {
      "text/plain": [
       "0.735240435097661"
      ]
     },
     "execution_count": 88,
     "metadata": {},
     "output_type": "execute_result"
    }
   ],
   "source": [
    "# 73.5% non-stopwords; 26.5% stopwords; formal news report, more informative\n",
    "nonstopwords_fraction(nltk.corpus.reuters.words())"
   ]
  },
  {
   "cell_type": "code",
   "execution_count": 89,
   "metadata": {},
   "outputs": [
    {
     "data": {
      "text/plain": [
       "0.7097978227060653"
      ]
     },
     "execution_count": 89,
     "metadata": {},
     "output_type": "execute_result"
    }
   ],
   "source": [
    "# 71% non-stopwords; 29% stopwords; non-formal oral text, less informative\n",
    "nonstopwords_fraction(nltk.corpus.nps_chat.words())"
   ]
  },
  {
   "cell_type": "markdown",
   "metadata": {},
   "source": [
    "## Solving the word puzzles\n",
    "- application of wordlist"
   ]
  },
  {
   "cell_type": "markdown",
   "metadata": {},
   "source": [
    "- word puzzle problem:\n",
    "    - creating words using a grid of letters \n",
    "    - requirements:\n",
    "        - new words must contain more than 5 letters from the grid\n",
    "        - each new word must contain the center letter \n",
    "        - each letter can only be used once for creating each new word \n",
    "            - repeat letters: the frequency of each letter in the candidate word less than or equal to the frequency of the corresponding letter in the puzzle\n",
    "        - no person names\n",
    "        - e.g., region, vov, govern, involver?\n",
    "        \n",
    "<img src=\"./puzzle.png\" width=\"100\" align=\"center\">"
   ]
  },
  {
   "cell_type": "code",
   "execution_count": 90,
   "metadata": {},
   "outputs": [],
   "source": [
    "def solve_puzzle(puzzle_letters, obligatory_letter, min_len):\n",
    "    \"\"\"\n",
    "    generate new words using letters from the grid  \n",
    "    follow the required rules:\n",
    "        - word length > 5\n",
    "        - must contain the obligatory letter\n",
    "        - each letter can only be used once: the frequency of every letter <= puzzle letters\n",
    "        - no human names\n",
    "    \"\"\"\n",
    "    wordlist = nltk.corpus.words.words() # list of english words\n",
    "    \n",
    "    new_words = []\n",
    "    for w in wordlist:\n",
    "        if((len(w) > min_len) and (obligatory_letter in w) and (nltk.FreqDist(w) <= nltk.FreqDist(puzzle_letters))):\n",
    "            # no female / male names\n",
    "            names = [n.lower() for n in nltk.corpus.names.words('male.txt') + nltk.corpus.names.words('female.txt')]\n",
    "            if(w not in names):\n",
    "                new_words.append(w)\n",
    "    \n",
    "    print(\"Generated %d new words\" % len(new_words))\n",
    "    return new_words"
   ]
  },
  {
   "cell_type": "code",
   "execution_count": 91,
   "metadata": {},
   "outputs": [
    {
     "name": "stdout",
     "output_type": "stream",
     "text": [
      "Generated 19 new words\n"
     ]
    },
    {
     "data": {
      "text/plain": [
       "['glover',\n",
       " 'gorlin',\n",
       " 'govern',\n",
       " 'grovel',\n",
       " 'ignore',\n",
       " 'involver',\n",
       " 'lienor',\n",
       " 'linger',\n",
       " 'longer',\n",
       " 'lovering',\n",
       " 'noiler',\n",
       " 'overling',\n",
       " 'region',\n",
       " 'renvoi',\n",
       " 'revolving',\n",
       " 'ringle',\n",
       " 'roving',\n",
       " 'violer',\n",
       " 'virole']"
      ]
     },
     "execution_count": 91,
     "metadata": {},
     "output_type": "execute_result"
    }
   ],
   "source": [
    "solve_puzzle(puzzle_letters = 'egivrvonl', obligatory_letter='r', min_len=5)"
   ]
  },
  {
   "cell_type": "markdown",
   "metadata": {},
   "source": [
    "- Compare the differences of female and male names by ending letters"
   ]
  },
  {
   "cell_type": "code",
   "execution_count": 92,
   "metadata": {},
   "outputs": [
    {
     "name": "stdout",
     "output_type": "stream",
     "text": [
      "5001 female names, 2943 male names, 365 shared names\n"
     ]
    }
   ],
   "source": [
    "# get names from nltk\n",
    "# get names from online resources\n",
    "\n",
    "male_names = nltk.corpus.names.words('male.txt')\n",
    "female_names = nltk.corpus.names.words('female.txt')\n",
    "names = male_names + female_names\n",
    "shared_names = list(set(male_names).intersection(set(female_names))) # names share by girls and boys\n",
    "print(\"%d female names, %d male names, %d shared names\" % (len(female_names), len(male_names), len(shared_names)))"
   ]
  },
  {
   "cell_type": "code",
   "execution_count": 93,
   "metadata": {},
   "outputs": [
    {
     "data": {
      "image/png": "[encoded data removed]",
      "text/plain": [
       "<Figure size 640x480 with 1 Axes>"
      ]
     },
     "metadata": {},
     "output_type": "display_data"
    }
   ],
   "source": [
    "# ending letter in female and male names    \n",
    "name_gender = []\n",
    "for name in set(names):\n",
    "    if(name in shared_names):\n",
    "        name_gender.append(('shared_names',name[-1]))\n",
    "        name_gender.append(('female',name[-1]))\n",
    "        name_gender.append(('male', name[-1]))\n",
    "    elif(name in male_names):\n",
    "        name_gender.append(('male', name[-1]))\n",
    "    elif(name in female_names):\n",
    "        name_gender.append(('female', name[-1]))\n",
    "    else:\n",
    "        print(\"Error: %s\" % name)\n",
    "        \n",
    "cfd = nltk.ConditionalFreqDist(name_gender)\n",
    "\n",
    "cfd.plot()\n",
    "# names ending in a and e are more likely to be female names\n",
    "# names ending in n and s are more likely to be male names\n",
    "# names ending in l,n, and y are more likely to be shared names"
   ]
  },
  {
   "cell_type": "markdown",
   "metadata": {},
   "source": [
    "## A pronouncing dictionary \n",
    "- CMU Pronouncing Dictionary for US English\n",
    "- word: phonetic codes"
   ]
  },
  {
   "cell_type": "code",
   "execution_count": 94,
   "metadata": {},
   "outputs": [
    {
     "name": "stdout",
     "output_type": "stream",
     "text": [
      "133737\n"
     ]
    },
    {
     "data": {
      "text/plain": [
       "[('fir', ['F', 'ER1']),\n",
       " ('fire', ['F', 'AY1', 'ER0']),\n",
       " ('fire', ['F', 'AY1', 'R']),\n",
       " ('firearm', ['F', 'AY1', 'ER0', 'AA2', 'R', 'M']),\n",
       " ('firearm', ['F', 'AY1', 'R', 'AA2', 'R', 'M']),\n",
       " ('firearms', ['F', 'AY1', 'ER0', 'AA2', 'R', 'M', 'Z']),\n",
       " ('firearms', ['F', 'AY1', 'R', 'AA2', 'R', 'M', 'Z']),\n",
       " ('fireball', ['F', 'AY1', 'ER0', 'B', 'AO2', 'L'])]"
      ]
     },
     "execution_count": 94,
     "metadata": {},
     "output_type": "execute_result"
    }
   ],
   "source": [
    "entries = nltk.corpus.cmudict.entries()\n",
    "print(len(entries))\n",
    "\n",
    "entries[42371:42379]"
   ]
  },
  {
   "cell_type": "markdown",
   "metadata": {},
   "source": [
    "## Comparative wordlists\n",
    "- Swadesh wordlists\n",
    "- 207 common words in 24 languages"
   ]
  },
  {
   "cell_type": "code",
   "execution_count": 95,
   "metadata": {},
   "outputs": [
    {
     "name": "stdout",
     "output_type": "stream",
     "text": [
      "languages: ['be', 'bg', 'bs', 'ca', 'cs', 'cu', 'de', 'en', 'es', 'fr', 'hr', 'it', 'la', 'mk', 'nl', 'pl', 'pt', 'ro', 'ru', 'sk', 'sl', 'sr', 'sw', 'uk']\n"
     ]
    }
   ],
   "source": [
    "from nltk.corpus import swadesh\n",
    "print(\"languages:\", swadesh.fileids())"
   ]
  },
  {
   "cell_type": "code",
   "execution_count": 96,
   "metadata": {},
   "outputs": [
    {
     "data": {
      "text/plain": [
       "['I',\n",
       " 'you (singular), thou',\n",
       " 'he',\n",
       " 'we',\n",
       " 'you (plural)',\n",
       " 'they',\n",
       " 'this',\n",
       " 'that',\n",
       " 'here',\n",
       " 'there']"
      ]
     },
     "execution_count": 96,
     "metadata": {},
     "output_type": "execute_result"
    }
   ],
   "source": [
    "swadesh.words('en')[:10]"
   ]
  },
  {
   "cell_type": "code",
   "execution_count": 97,
   "metadata": {},
   "outputs": [
    {
     "data": {
      "text/plain": [
       "[('I', 'je'),\n",
       " ('you (singular), thou', 'tu, vous'),\n",
       " ('he', 'il'),\n",
       " ('we', 'nous'),\n",
       " ('you (plural)', 'vous'),\n",
       " ('they', 'ils, elles'),\n",
       " ('this', 'ceci'),\n",
       " ('that', 'cela'),\n",
       " ('here', 'ici'),\n",
       " ('there', 'là')]"
      ]
     },
     "execution_count": 97,
     "metadata": {},
     "output_type": "execute_result"
    }
   ],
   "source": [
    "en2fr = swadesh.entries(['en', 'fr'])\n",
    "en2fr[:10]"
   ]
  },
  {
   "cell_type": "code",
   "execution_count": 98,
   "metadata": {},
   "outputs": [
    {
     "data": {
      "text/plain": [
       "('chien', 'ici')"
      ]
     },
     "execution_count": 98,
     "metadata": {},
     "output_type": "execute_result"
    }
   ],
   "source": [
    "translate = dict(swadesh.entries(['en', 'fr']))\n",
    "translate['dog'], translate['here']"
   ]
  },
  {
   "cell_type": "code",
   "execution_count": null,
   "metadata": {},
   "outputs": [],
   "source": []
  }
 ],
 "metadata": {
  "kernelspec": {
   "display_name": "Python 3",
   "language": "python",
   "name": "python3"
  },
  "language_info": {
   "codemirror_mode": {
    "name": "ipython",
    "version": 3
   },
   "file_extension": ".py",
   "mimetype": "text/x-python",
   "name": "python",
   "nbconvert_exporter": "python",
   "pygments_lexer": "ipython3",
   "version": "3.7.0"
  },
  "toc": {
   "base_numbering": 1,
   "nav_menu": {},
   "number_sections": true,
   "sideBar": true,
   "skip_h1_title": false,
   "title_cell": "Table of Contents",
   "title_sidebar": "Contents",
   "toc_cell": false,
   "toc_position": {},
   "toc_section_display": true,
   "toc_window_display": false
  }
 },
 "nbformat": 4,
 "nbformat_minor": 2
}
